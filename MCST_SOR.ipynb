{
 "cells": [
  {
   "cell_type": "code",
   "execution_count": 1,
   "metadata": {},
   "outputs": [],
   "source": [
    "import copy\n",
    "import random\n",
    "import numpy as np\n",
    "import math\n",
    "import openpyxl\n",
    "from collections import defaultdict\n",
    "import random\n",
    "import matplotlib.pyplot as plt\n",
    "import time"
   ]
  },
  {
   "cell_type": "code",
   "execution_count": 2,
   "metadata": {},
   "outputs": [],
   "source": [
    "class Node:\n",
    "    def __init__(self, state, parent=None):\n",
    "        self.state = state\n",
    "        self.parent = parent\n",
    "        self.children = []\n",
    "        self.visits = 0\n",
    "        self.value = 0\n",
    "\n",
    "    def add_child(self, child):\n",
    "        self.children.append(child)\n",
    "\n",
    "    def update(self, value):\n",
    "        self.visits += 1\n",
    "        self.value += value\n",
    "\n",
    "    def ucb1(self, total_visits):\n",
    "        return self.value / self.visits + math.sqrt(2 * math.log(total_visits) / self.visits)"
   ]
  },
  {
   "cell_type": "code",
   "execution_count": 3,
   "metadata": {},
   "outputs": [],
   "source": [
    "class MCTS:\n",
    "    def __init__(self, game, num_simulations):\n",
    "        self.game = game\n",
    "        self.num_simulations = num_simulations\n",
    "\n",
    "    def search(self, root_state):\n",
    "        root = Node(root_state)\n",
    "\n",
    "        for _ in range(self.num_simulations):\n",
    "            node = self.select(root)\n",
    "            result = self.simulate(node.state)\n",
    "            self.backpropagate(node, result)\n",
    "\n",
    "        return self.best_child(root)\n",
    "\n",
    "    def select(self, node):\n",
    "        while not self.game.is_terminal(node.state):\n",
    "            if not self.game.is_fully_expanded(node):\n",
    "                return self.expand(node)\n",
    "            else:\n",
    "                node =  self.best_child(node)\n",
    "        return node\n",
    "\n",
    "    def expand(self, node):\n",
    "        state = self.game.random_unexpanded_child(node)\n",
    "        child = Node(state, parent=node)\n",
    "        node.add_child(child)\n",
    "        return child\n",
    "\n",
    "    def simulate(self, state):\n",
    "        while not self.game.is_terminal(state):\n",
    "            state = self.game.random_child(state)\n",
    "        return self.game.reward(state)\n",
    "\n",
    "    def backpropagate(self, node, result):\n",
    "        while node is not None:\n",
    "            node.update(result)\n",
    "            result = -result\n",
    "            node = node.parent\n",
    "\n",
    "    def best_child(self, node):\n",
    "        total_visits = sum(child.visits for child in node.children)\n",
    "        return max(node.children, key=lambda child: child.ucb1(total_visits))"
   ]
  },
  {
   "cell_type": "code",
   "execution_count": 4,
   "metadata": {},
   "outputs": [],
   "source": [
    "class SOR:\n",
    "    def __init__(self, items, capacity, side):\n",
    "        self.items = items\n",
    "        self.capacity = capacity\n",
    "        self.side = side\n",
    "\n",
    "    def is_terminal(self, state):\n",
    "        remaining_capacity, remaining_items, dropped_items = state\n",
    "        return remaining_capacity <= 0 or len(remaining_items) == 0\n",
    "\n",
    "    def is_fully_expanded(self, node):\n",
    "        return len(node.state[1]) == len(node.children)\n",
    "\n",
    "    def random_child(self, state):\n",
    "        remaining_capacity, remaining_items, dropped_items = state\n",
    "        item = random.choice(remaining_items)\n",
    "        new_remaining_items = remaining_items.copy()\n",
    "        new_remaining_items.remove(item)\n",
    "        new_dropped_items = dropped_items.copy()\n",
    "        if item[2] <= remaining_capacity:\n",
    "            new_remaining_capacity = remaining_capacity - item[2]\n",
    "            return new_remaining_capacity, new_remaining_items, new_dropped_items\n",
    "        else:\n",
    "            new_dropped_items.append(item)\n",
    "            return remaining_capacity, new_remaining_items, new_dropped_items\n",
    "\n",
    "    def random_unexpanded_child(self, node):\n",
    "        remaining_capacity, remaining_items, dropped_items = node.state\n",
    "        expanded_items = []\n",
    "        for child in node.children:\n",
    "            expanded_item = [item for item in remaining_items if item not in set(child.state[1])]\n",
    "            expanded_items = list(set(expanded_items)&set(expanded_item))\n",
    "        unexpanded_items = list(set(remaining_items)-set(expanded_items))\n",
    "        item = random.choice(unexpanded_items)\n",
    "        new_remaining_items = remaining_items.copy()\n",
    "        new_remaining_items.remove(item)\n",
    "        new_dropped_items = dropped_items.copy()\n",
    "        if item[2] <= remaining_capacity:\n",
    "            new_remaining_capacity = remaining_capacity - item[2]\n",
    "            return new_remaining_capacity, new_remaining_items, new_dropped_items\n",
    "        else:\n",
    "            new_dropped_items.append(item)\n",
    "            return remaining_capacity, new_remaining_items, new_dropped_items\n",
    "\n",
    "    def reward(self, state):\n",
    "        remaining_capacity, remaining_items, dropped_items = state\n",
    "        if self.side == 'buy':\n",
    "            return sum(item[1] for item in self.items) - sum(item[1] for item in remaining_items)\n",
    "        else:\n",
    "            return sum(item[1] for item in remaining_items) - sum(item[1] for item in self.items)\n",
    "    "
   ]
  },
  {
   "cell_type": "code",
   "execution_count": 5,
   "metadata": {},
   "outputs": [
    {
     "name": "stdout",
     "output_type": "stream",
     "text": [
      "[('BATS', 7, 7), ('BATS', 5, 3), ('BATS', 12, 4)]\n"
     ]
    }
   ],
   "source": [
    "items = [('BATS', 10 ,2), ('BATS', 7 ,7), ('BATS', 5 ,3), ('BATS', 10 ,4), ('BATS', 12 ,4)]\n",
    "capacity = 14\n",
    "side = 'buy'\n",
    "sor = SOR(items, capacity, side)\n",
    "mcts = MCTS(sor, num_simulations=1000)\n",
    "root_state = (capacity, items, [])\n",
    "best_state = mcts.search(root_state)\n",
    "solution = best_state\n",
    "while not len(solution.children)==0:\n",
    "    solution =mcts.best_child(solution)\n",
    "packed_items = [item for item in items if ((item not in solution.state[1]) and (item not in solution.state[2]))]\n",
    "print(packed_items)"
   ]
  },
  {
   "cell_type": "code",
   "execution_count": 6,
   "metadata": {},
   "outputs": [],
   "source": [
    "orders_file = 'data/orders.xlsx'\n",
    "workbook = openpyxl.load_workbook(orders_file)"
   ]
  },
  {
   "cell_type": "code",
   "execution_count": 7,
   "metadata": {},
   "outputs": [
    {
     "name": "stdout",
     "output_type": "stream",
     "text": [
      "['Microsofts', 'Netflix']\n"
     ]
    },
    {
     "name": "stderr",
     "output_type": "stream",
     "text": [
      "C:\\Users\\Thumbby\\AppData\\Local\\Temp\\ipykernel_10028\\2214667223.py:1: DeprecationWarning: Call to deprecated function get_sheet_names (Use wb.sheetnames).\n",
      "  sheetnames= workbook.get_sheet_names()\n"
     ]
    }
   ],
   "source": [
    "sheetnames= workbook.get_sheet_names()\n",
    "print(sheetnames)"
   ]
  },
  {
   "cell_type": "code",
   "execution_count": 8,
   "metadata": {},
   "outputs": [
    {
     "name": "stdout",
     "output_type": "stream",
     "text": [
      "Microsofts\n",
      "Netflix\n"
     ]
    }
   ],
   "source": [
    "sheetMSFT = workbook.worksheets[0]\n",
    "sheetNFLX = workbook.worksheets[1]\n",
    "sheetMSFTNAME = sheetMSFT.title\n",
    "sheetNFLXNAME = sheetNFLX.title\n",
    "print(sheetMSFTNAME)\n",
    "print(sheetNFLXNAME)"
   ]
  },
  {
   "cell_type": "code",
   "execution_count": 9,
   "metadata": {},
   "outputs": [
    {
     "name": "stdout",
     "output_type": "stream",
     "text": [
      "defaultdict(<class 'list'>, {'Microsofts': [('NASD', 183.65, 500), ('NASD', 183.64, 200), ('NASD', 183.63, 500), ('NASD', 183.92, 1450), ('NASD', 183.81, 1000), ('BATS', 183.65, 30), ('BATS', 183.64, 450), ('BATS', 183.73, 175), ('BATS', 183.62, 400), ('BATS', 183.71, 1050)], 'Netflix': [('NASD', 183.65, 500), ('NASD', 183.64, 200), ('NASD', 183.63, 500), ('NASD', 183.92, 1450), ('NASD', 183.81, 1000), ('BATS', 183.65, 30), ('BATS', 183.64, 450), ('BATS', 183.73, 175), ('BATS', 183.62, 400), ('BATS', 183.71, 1050)]})\n",
      "defaultdict(<class 'list'>, {'Microsofts': [('NASD', 183.91, 100), ('NASD', 183.97, 300), ('NASD', 183.93, 1075), ('NASD', 183.94, 800), ('NASD', 183.85, 200), ('BATS', 183.91, 500), ('BATS', 183.94, 400), ('BATS', 183.95, 1125), ('BATS', 183.96, 675), ('BATS', 183.78, 180)], 'Netflix': [('NASD', 183.91, 100), ('NASD', 183.97, 300), ('NASD', 183.93, 1075), ('NASD', 183.94, 800), ('NASD', 183.85, 200), ('BATS', 183.91, 500), ('BATS', 183.94, 400), ('BATS', 183.95, 1125), ('BATS', 183.96, 675), ('BATS', 183.78, 180)]})\n"
     ]
    }
   ],
   "source": [
    "# Get the dictionary of price-to-qunatity\n",
    "excelbids = defaultdict(list)\n",
    "excelasks = defaultdict(list)\n",
    "for i in range(3, 8):\n",
    "\tfor j in range(1, 2):\n",
    "\t\texcelbids[sheetMSFTNAME].append(('NASD',sheetMSFT.cell(i, j).value,sheetMSFT.cell(i, j+1).value))\n",
    "\tfor j in range(3, 4):\n",
    "\t\texcelasks[sheetMSFTNAME].append(('NASD',sheetMSFT.cell(i, j).value,sheetMSFT.cell(i, j+1).value))\n",
    "\n",
    "for i in range (10, 15):\n",
    "\tfor j in range(1, 2):\n",
    "\t\texcelbids[sheetMSFTNAME].append(('BATS',sheetMSFT.cell(i, j).value,sheetMSFT.cell(i, j+1).value))\n",
    "\tfor j in range(3, 4):\n",
    "\t\texcelasks[sheetMSFTNAME].append(('BATS',sheetMSFT.cell(i, j).value,sheetMSFT.cell(i, j+1).value))\n",
    "\n",
    "for i in range(3, 8):\n",
    "\tfor j in range(1, 2):\n",
    "\t\texcelbids[sheetNFLXNAME].append(('NASD',sheetMSFT.cell(i, j).value,sheetMSFT.cell(i, j+1).value))\n",
    "\tfor j in range(3, 4):\n",
    "\t\texcelasks[sheetNFLXNAME].append(('NASD',sheetMSFT.cell(i, j).value,sheetMSFT.cell(i, j+1).value))\n",
    "\n",
    "for i in range (10, 15):\n",
    "\tfor j in range(1, 2):\n",
    "\t\texcelbids[sheetNFLXNAME].append(('BATS',sheetMSFT.cell(i, j).value,sheetMSFT.cell(i, j+1).value))\n",
    "\tfor j in range(3, 4):\n",
    "\t\texcelasks[sheetNFLXNAME].append(('BATS',sheetMSFT.cell(i, j).value,sheetMSFT.cell(i, j+1).value))\n",
    "\t\t\n",
    "print(excelbids)\n",
    "print(excelasks)"
   ]
  },
  {
   "cell_type": "code",
   "execution_count": 10,
   "metadata": {},
   "outputs": [],
   "source": [
    "def mcts_smart_order_router(side, symbol, qty, order_type='market', price = None):\n",
    "    needed_qty = qty\n",
    "    route = {}\n",
    "    available_qty = 0\n",
    "    if side == 'buy':\n",
    "        bid_shared = []\n",
    "        for shared in excelbids[symbol]:\n",
    "            if order_type == 'limit' and shared[1] <= price:\n",
    "                bid_shared.append(shared)\n",
    "        if len(bid_shared) == 0:\n",
    "            return 'No available shared'\n",
    "        sor = SOR(bid_shared, needed_qty, side)\n",
    "        mcts = MCTS(sor, num_simulations=1000)\n",
    "        root_state = (needed_qty, bid_shared, [])\n",
    "        best_state = mcts.search(root_state)\n",
    "        solution = best_state\n",
    "        while not len(solution.children)==0:\n",
    "            solution =mcts.best_child(solution)\n",
    "        packed_items = [item for item in bid_shared if ((item not in solution.state[1]) and (item not in solution.state[2]))]\n",
    "        for packed_item in packed_items:\n",
    "            exchanger = packed_item[0]\n",
    "            if exchanger not in route:\n",
    "                route[exchanger] = {}\n",
    "            route[exchanger][packed_item[1]] = packed_item[2]\n",
    "            available_qty = available_qty + packed_item[2]\n",
    "        order = {'route':route, 'leave_qty': needed_qty - available_qty}\n",
    "    elif side == 'sell':\n",
    "        ask_shared = []\n",
    "        for shared in excelasks[symbol]:\n",
    "            if order_type == 'limit' and shared[1] >= price:\n",
    "                ask_shared.append(shared)\n",
    "        if len(ask_shared) == 0:\n",
    "            return 'No available shared'\n",
    "        sor = SOR(ask_shared, needed_qty, side)\n",
    "        mcts = MCTS(sor, num_simulations=1000)\n",
    "        root_state = (needed_qty, ask_shared, [])\n",
    "        best_state = mcts.search(root_state)\n",
    "        solution = best_state\n",
    "        while not len(solution.children)==0:\n",
    "            solution =mcts.best_child(solution)\n",
    "        packed_items = [item for item in ask_shared if ((item not in solution.state[1]) and (item not in solution.state[2]))]\n",
    "        for packed_item in packed_items:\n",
    "            exchanger = packed_item[0]\n",
    "            if exchanger not in route:\n",
    "                route[exchanger] = {}\n",
    "            route[exchanger][packed_item[1]] = packed_item[2]\n",
    "            available_qty = available_qty + packed_item[2]\n",
    "        order = {'route':route, 'leave_qty': needed_qty - available_qty}\n",
    "    return order"
   ]
  },
  {
   "cell_type": "code",
   "execution_count": 33,
   "metadata": {},
   "outputs": [
    {
     "name": "stdout",
     "output_type": "stream",
     "text": [
      "This investor want to buy 777 shared at 188.2 price\n",
      "{'route': {'NASD': {183.64: 200}, 'BATS': {183.65: 30, 183.64: 450}}, 'leave_qty': 97}\n"
     ]
    }
   ],
   "source": [
    "qty = random.randint(500, 1000)\n",
    "limit_price = round(random.uniform(180, 190), 2)\n",
    "order = mcts_smart_order_router('buy', 'Microsofts', qty, 'limit', limit_price)\n",
    "print(f'This investor want to buy {qty} shared at {limit_price} price')\n",
    "print(order)"
   ]
  },
  {
   "cell_type": "code",
   "execution_count": 25,
   "metadata": {},
   "outputs": [
    {
     "name": "stdout",
     "output_type": "stream",
     "text": [
      "This investor want to sell 645 shared at 181.07 price\n",
      "{'route': {'NASD': {183.85: 200}, 'BATS': {183.94: 400}}, 'leave_qty': 45}\n"
     ]
    }
   ],
   "source": [
    "qty = random.randint(500, 1000)\n",
    "limit_price = round(random.uniform(180, 190), 2)\n",
    "order = mcts_smart_order_router('sell', 'Microsofts', qty, 'limit', limit_price)\n",
    "print(f'This investor want to sell {qty} shared at {limit_price} price')\n",
    "print(order)"
   ]
  },
  {
   "cell_type": "code",
   "execution_count": 49,
   "metadata": {},
   "outputs": [
    {
     "name": "stdout",
     "output_type": "stream",
     "text": [
      "100\n",
      "200\n",
      "300\n",
      "400\n",
      "500\n",
      "600\n",
      "700\n",
      "800\n",
      "900\n"
     ]
    }
   ],
   "source": [
    "# buy test\n",
    "buy_times = []\n",
    "buy_counts = []\n",
    "step = 0\n",
    "for i in range(100, 1000, 100):\n",
    "    print(i)\n",
    "    start_time = time.time()\n",
    "    for order_count in range(0, i):\n",
    "        qty = random.randint(1000, 5000)\n",
    "        limit_price = round(random.uniform(183.5, 184.5), 2)\n",
    "        route = mcts_smart_order_router('buy', 'Microsofts', qty, 'limit', limit_price)\n",
    "        '''print(f'This investor want to buy {qty} shared at {limit_price} price')\n",
    "        print(route)'''\n",
    "    end_time = time.time()\n",
    "    buy_times.append(end_time - start_time)\n",
    "    buy_counts.append(i)"
   ]
  },
  {
   "cell_type": "code",
   "execution_count": 50,
   "metadata": {},
   "outputs": [
    {
     "name": "stdout",
     "output_type": "stream",
     "text": [
      "100\n",
      "200\n",
      "300\n",
      "400\n",
      "500\n",
      "600\n",
      "700\n",
      "800\n",
      "900\n"
     ]
    }
   ],
   "source": [
    "# sell test\n",
    "sell_times = []\n",
    "sell_counts = []\n",
    "step = 0\n",
    "for i in range(100, 1000, 100):\n",
    "    print(i)\n",
    "    start_time = time.time()\n",
    "    for order_count in range(0, i):\n",
    "        qty = random.randint(1000, 5000)\n",
    "        limit_price = round(random.uniform(183.5, 184.5), 2)\n",
    "        route = mcts_smart_order_router('sell', 'Microsofts', qty, 'limit', limit_price)\n",
    "        '''print(f'This investor want to sell {qty} shared at {limit_price} price')\n",
    "        print(route)'''\n",
    "    end_time = time.time()\n",
    "    sell_times.append(end_time - start_time)\n",
    "    sell_counts.append(i)"
   ]
  },
  {
   "cell_type": "code",
   "execution_count": 51,
   "metadata": {},
   "outputs": [
    {
     "data": {
      "image/png": "[encoded data removed]",
      "text/plain": [
       "<Figure size 640x480 with 1 Axes>"
      ]
     },
     "metadata": {},
     "output_type": "display_data"
    }
   ],
   "source": [
    "buy_line = plt.plot(buy_counts, buy_times, 'r--', label = 'buy test')\n",
    "sell_line = plt.plot(sell_counts, sell_times, 'b--', label = 'sell test')\n",
    "plt.plot(buy_counts, buy_times, 'ro-', sell_counts, sell_times, 'b+-')\n",
    "plt.title('Counts of orders VS Total Block Time')\n",
    "plt.xlabel('Counts of orders')\n",
    "plt.ylabel('Total Block Time(seconds)')\n",
    "plt.legend()\n",
    "plt.show()"
   ]
  }
 ],
 "metadata": {
  "kernelspec": {
   "display_name": "Python 3.10.9 ('ai')",
   "language": "python",
   "name": "python3"
  },
  "language_info": {
   "codemirror_mode": {
    "name": "ipython",
    "version": 3
   },
   "file_extension": ".py",
   "mimetype": "text/x-python",
   "name": "python",
   "nbconvert_exporter": "python",
   "pygments_lexer": "ipython3",
   "version": "3.10.9"
  },
  "vscode": {
   "interpreter": {
    "hash": "23d2138e26dfb28839b83ed814a43cc60c3d8c006f4568ef7458f1442bc438e6"
   }
  }
 },
 "nbformat": 4,
 "nbformat_minor": 4
}
