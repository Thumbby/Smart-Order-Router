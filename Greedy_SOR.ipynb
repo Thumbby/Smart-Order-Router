{
 "cells": [
  {
   "cell_type": "code",
   "execution_count": 1,
   "metadata": {},
   "outputs": [],
   "source": [
    "import openpyxl\n",
    "from collections import defaultdict\n",
    "import random\n",
    "import matplotlib.pyplot as plt\n",
    "import time"
   ]
  },
  {
   "cell_type": "code",
   "execution_count": 2,
   "metadata": {},
   "outputs": [],
   "source": [
    "orders_file = 'data/orders.xlsx'\n",
    "workbook = openpyxl.load_workbook(orders_file)"
   ]
  },
  {
   "cell_type": "code",
   "execution_count": 3,
   "metadata": {},
   "outputs": [
    {
     "name": "stdout",
     "output_type": "stream",
     "text": [
      "['Microsofts', 'Netflix']\n"
     ]
    },
    {
     "name": "stderr",
     "output_type": "stream",
     "text": [
      "C:\\Users\\Thumbby\\AppData\\Local\\Temp\\ipykernel_11172\\2214667223.py:1: DeprecationWarning: Call to deprecated function get_sheet_names (Use wb.sheetnames).\n",
      "  sheetnames= workbook.get_sheet_names()\n"
     ]
    }
   ],
   "source": [
    "sheetnames= workbook.get_sheet_names()\n",
    "print(sheetnames)"
   ]
  },
  {
   "cell_type": "code",
   "execution_count": 4,
   "metadata": {},
   "outputs": [
    {
     "name": "stdout",
     "output_type": "stream",
     "text": [
      "Microsofts\n",
      "Netflix\n"
     ]
    }
   ],
   "source": [
    "sheetMSFT = workbook.worksheets[0]\n",
    "sheetNFLX = workbook.worksheets[1]\n",
    "sheetMSFTNAME = sheetMSFT.title\n",
    "sheetNFLXNAME = sheetNFLX.title\n",
    "print(sheetMSFTNAME)\n",
    "print(sheetNFLXNAME)"
   ]
  },
  {
   "cell_type": "code",
   "execution_count": 5,
   "metadata": {},
   "outputs": [
    {
     "data": {
      "text/plain": [
       "\"excelasks['BATS'] = {}\\nexcelasks['BATS'][sheetMSFTNAME] = defaultdict(list)\\nexcelasks['BATS'][sheetNFLXNAME] = defaultdict(list)\\nexcelasks['NASD'] = {}\\nexcelasks['NASD'][sheetMSFTNAME] = defaultdict(list)\\nexcelasks['NASD'][sheetNFLXNAME] = defaultdict(list)\""
      ]
     },
     "execution_count": 5,
     "metadata": {},
     "output_type": "execute_result"
    }
   ],
   "source": [
    "# excelbids = defaultdict(lambda:defaultdict(list))\n",
    "'''excelbids['BATS'] = {}\n",
    "excelbids['BATS'][sheetMSFTNAME] = defaultdict(list)\n",
    "excelbids['BATS'][sheetNFLXNAME] = defaultdict(list)\n",
    "excelbids['NASD'] = {}\n",
    "excelbids['NASD'][sheetMSFTNAME] = defaultdict(list)\n",
    "excelbids['NASD'][sheetNFLXNAME] = defaultdict(list)'''\n",
    "# excelasks = defaultdict(lambda:defaultdict(list))\n",
    "'''excelasks['BATS'] = {}\n",
    "excelasks['BATS'][sheetMSFTNAME] = defaultdict(list)\n",
    "excelasks['BATS'][sheetNFLXNAME] = defaultdict(list)\n",
    "excelasks['NASD'] = {}\n",
    "excelasks['NASD'][sheetMSFTNAME] = defaultdict(list)\n",
    "excelasks['NASD'][sheetNFLXNAME] = defaultdict(list)'''\n"
   ]
  },
  {
   "cell_type": "code",
   "execution_count": 6,
   "metadata": {},
   "outputs": [
    {
     "data": {
      "text/plain": [
       "\"for i in range(3, 8):\\n\\tfor j in range(1, 2):\\n\\t\\texcelbids[sheetMSFTNAME][sheetMSFT.cell(i, j).value].append(['NASD',sheetMSFT.cell(i, j+1).value])\\n\\tfor j in range(3, 4):\\n\\t\\texcelasks[sheetMSFTNAME][sheetMSFT.cell(i, j).value].append(['NASD',sheetMSFT.cell(i, j+1).value])\\n\\nfor i in range (10, 15):\\n\\tfor j in range(1, 2):\\n\\t\\texcelbids[sheetMSFTNAME][sheetMSFT.cell(i, j).value].append(['BATS',sheetMSFT.cell(i, j+1).value])\\n\\tfor j in range(3, 4):\\n\\t\\texcelasks[sheetMSFTNAME][sheetMSFT.cell(i, j).value].append(['BATS',sheetMSFT.cell(i, j+1).value])\\n\\nfor i in range(3, 8):\\n\\tfor j in range(1, 2):\\n\\t\\texcelbids[sheetNFLXNAME][sheetNFLX.cell(i, j).value].append(['NASD',sheetMSFT.cell(i, j+1).value])\\n\\tfor j in range(3, 4):\\n\\t\\texcelasks[sheetNFLXNAME][sheetNFLX.cell(i, j).value].append(['NASD',sheetMSFT.cell(i, j+1).value])\\n\\nfor i in range (10, 15):\\n\\tfor j in range(1, 2):\\n\\t\\texcelbids[sheetNFLXNAME][sheetNFLX.cell(i, j).value].append(['BATS',sheetMSFT.cell(i, j+1).value])\\n\\tfor j in range(3, 4):\\n\\t\\texcelasks[sheetNFLXNAME][sheetNFLX.cell(i, j).value].append(['BATS',sheetMSFT.cell(i, j+1).value])\""
      ]
     },
     "execution_count": 6,
     "metadata": {},
     "output_type": "execute_result"
    }
   ],
   "source": [
    "# Get the dictionary of price-to-qunatity\n",
    "excelbids = defaultdict(lambda:defaultdict(list))\n",
    "excelasks = defaultdict(lambda:defaultdict(list))\n",
    "for i in range(0,100):\n",
    "\texchanger_name = \"Exchanger\"+str(i)\n",
    "\tfor _ in range(0, 5):\n",
    "\t\texcelbids['Microsofts'][round(random.uniform(183.5, 184.5), 2)].append([exchanger_name,random.randint(100, 500)])\n",
    "\t\texcelasks['Microsofts'][round(random.uniform(183.5, 184.5), 2)].append([exchanger_name,random.randint(100, 500)])\n",
    "'''for i in range(3, 8):\n",
    "\tfor j in range(1, 2):\n",
    "\t\texcelbids[sheetMSFTNAME][sheetMSFT.cell(i, j).value].append(['NASD',sheetMSFT.cell(i, j+1).value])\n",
    "\tfor j in range(3, 4):\n",
    "\t\texcelasks[sheetMSFTNAME][sheetMSFT.cell(i, j).value].append(['NASD',sheetMSFT.cell(i, j+1).value])\n",
    "\n",
    "for i in range (10, 15):\n",
    "\tfor j in range(1, 2):\n",
    "\t\texcelbids[sheetMSFTNAME][sheetMSFT.cell(i, j).value].append(['BATS',sheetMSFT.cell(i, j+1).value])\n",
    "\tfor j in range(3, 4):\n",
    "\t\texcelasks[sheetMSFTNAME][sheetMSFT.cell(i, j).value].append(['BATS',sheetMSFT.cell(i, j+1).value])\n",
    "\n",
    "for i in range(3, 8):\n",
    "\tfor j in range(1, 2):\n",
    "\t\texcelbids[sheetNFLXNAME][sheetNFLX.cell(i, j).value].append(['NASD',sheetMSFT.cell(i, j+1).value])\n",
    "\tfor j in range(3, 4):\n",
    "\t\texcelasks[sheetNFLXNAME][sheetNFLX.cell(i, j).value].append(['NASD',sheetMSFT.cell(i, j+1).value])\n",
    "\n",
    "for i in range (10, 15):\n",
    "\tfor j in range(1, 2):\n",
    "\t\texcelbids[sheetNFLXNAME][sheetNFLX.cell(i, j).value].append(['BATS',sheetMSFT.cell(i, j+1).value])\n",
    "\tfor j in range(3, 4):\n",
    "\t\texcelasks[sheetNFLXNAME][sheetNFLX.cell(i, j).value].append(['BATS',sheetMSFT.cell(i, j+1).value])'''"
   ]
  },
  {
   "cell_type": "code",
   "execution_count": 7,
   "metadata": {},
   "outputs": [],
   "source": [
    "def smart_order_router(side, symbol, qty, order_type='market', price=None):\n",
    "    needed_qty = qty\n",
    "    route = {}\n",
    "    available_qty = 0\n",
    "    if side == 'buy':\n",
    "        ask_shared = sorted(excelasks[symbol].items())\n",
    "        for shared in ask_shared:\n",
    "            if qty <= 0:\n",
    "                break\n",
    "            ask_price = shared[0]\n",
    "            order_info = shared[1]\n",
    "            if order_type == 'market' or ask_price <= price:\n",
    "                for order in order_info:\n",
    "                    exchanger = order[0]\n",
    "                    ask_qty = order[1]\n",
    "                    if exchanger not in route:\n",
    "                        route[exchanger] = {}\n",
    "                    if ask_qty >= qty and qty>0:\n",
    "                        route[exchanger][ask_price] = qty\n",
    "                        available_qty += qty\n",
    "                        qty = 0\n",
    "                    elif qty > 0:\n",
    "                        route[exchanger][ask_price] = ask_qty\n",
    "                        available_qty += ask_qty\n",
    "                        qty = qty - ask_qty\n",
    "    elif side == 'sell':\n",
    "        bid_shared = sorted(excelbids[symbol].items(), reverse = True)\n",
    "        for shared in bid_shared:\n",
    "            if qty <= 0:\n",
    "                break\n",
    "            bid_price = shared[0]\n",
    "            order_info = shared[1]\n",
    "            if order_type == 'market' or bid_price >= price:\n",
    "                for order in order_info:\n",
    "                    exchanger = order[0]\n",
    "                    bid_qty = order[1]\n",
    "                    if exchanger not in route:\n",
    "                        route[exchanger] = {}\n",
    "                    if bid_qty >= qty and qty>0:\n",
    "                        route[exchanger][bid_price] = qty\n",
    "                        available_qty += qty\n",
    "                        qty = 0\n",
    "                    elif qty > 0:\n",
    "                        route[exchanger][bid_price] = bid_qty\n",
    "                        available_qty += bid_qty\n",
    "                        qty = qty - bid_qty\n",
    "    order = {'route':route, 'leave_qty':needed_qty - available_qty}\n",
    "    return order    "
   ]
  },
  {
   "cell_type": "code",
   "execution_count": 8,
   "metadata": {},
   "outputs": [
    {
     "name": "stdout",
     "output_type": "stream",
     "text": [
      "This investor want to buy 3060 shared at 184.25 price\n",
      "{'route': {'Exchanger19': {183.5: 476}, 'Exchanger17': {183.51: 372}, 'Exchanger47': {183.51: 214}, 'Exchanger93': {183.51: 177}, 'Exchanger9': {183.52: 112}, 'Exchanger43': {183.52: 385}, 'Exchanger48': {183.52: 443}, 'Exchanger54': {183.52: 390}, 'Exchanger14': {183.53: 287}, 'Exchanger29': {183.53: 204}, 'Exchanger33': {}, 'Exchanger49': {}, 'Exchanger64': {}, 'Exchanger69': {}, 'Exchanger74': {}, 'Exchanger80': {}}, 'leave_qty': 0}\n"
     ]
    }
   ],
   "source": [
    "qty = random.randint(1000, 5000)\n",
    "limit_price = round(random.uniform(183.5, 184.5), 2)\n",
    "route = smart_order_router('buy', 'Microsofts', qty, 'limit', limit_price)\n",
    "print(f'This investor want to buy {qty} shared at {limit_price} price')\n",
    "print(route)"
   ]
  },
  {
   "cell_type": "code",
   "execution_count": 9,
   "metadata": {},
   "outputs": [
    {
     "name": "stdout",
     "output_type": "stream",
     "text": [
      "This investor want to sell 2996 shared at 184.17 price\n",
      "{'route': {'Exchanger9': {184.49: 471}, 'Exchanger39': {184.49: 394}, 'Exchanger44': {184.49: 422}, 'Exchanger52': {184.49: 471}, 'Exchanger68': {184.49: 448}, 'Exchanger14': {184.48: 314}, 'Exchanger30': {184.48: 203}, 'Exchanger37': {184.48: 273}}, 'leave_qty': 0}\n"
     ]
    }
   ],
   "source": [
    "qty = random.randint(1000, 5000)\n",
    "limit_price = round(random.uniform(183.5, 184.5), 2)\n",
    "route = smart_order_router('sell', 'Microsofts', qty, 'limit', limit_price)\n",
    "print(f'This investor want to sell {qty} shared at {limit_price} price')\n",
    "print(route)"
   ]
  },
  {
   "cell_type": "code",
   "execution_count": 10,
   "metadata": {},
   "outputs": [],
   "source": [
    "# buy test\n",
    "buy_times = []\n",
    "buy_counts = []\n",
    "step = 0\n",
    "for i in range(100, 1000, 100):\n",
    "    start_time = time.time()\n",
    "    for order_count in range(0, i):\n",
    "        qty = random.randint(1000, 5000)\n",
    "        limit_price = round(random.uniform(183.5, 184.5), 2)\n",
    "        route = smart_order_router('buy', 'Microsofts', qty, 'limit', limit_price)\n",
    "        '''print(f'This investor want to buy {qty} shared at {limit_price} price')\n",
    "        print(route)'''\n",
    "    end_time = time.time()\n",
    "    buy_times.append(end_time - start_time)\n",
    "    buy_counts.append(i)"
   ]
  },
  {
   "cell_type": "code",
   "execution_count": 11,
   "metadata": {},
   "outputs": [],
   "source": [
    "# sell test\n",
    "sell_times = []\n",
    "sell_counts = []\n",
    "step = 0\n",
    "for i in range(100, 1000, 100):\n",
    "    start_time = time.time()\n",
    "    for order_count in range(0, i):\n",
    "        qty = random.randint(1000, 5000)\n",
    "        limit_price = round(random.uniform(183.5, 184.5), 2)\n",
    "        route = smart_order_router('sell', 'Microsofts', qty, 'limit', limit_price)\n",
    "        '''print(f'This investor want to sell {qty} shared at {limit_price} price')\n",
    "        print(route)'''\n",
    "    end_time = time.time()\n",
    "    sell_times.append(end_time - start_time)\n",
    "    sell_counts.append(i)"
   ]
  },
  {
   "cell_type": "code",
   "execution_count": 12,
   "metadata": {},
   "outputs": [
    {
     "data": {
      "image/png": "[encoded data removed]",
      "text/plain": [
       "<Figure size 640x480 with 1 Axes>"
      ]
     },
     "metadata": {},
     "output_type": "display_data"
    }
   ],
   "source": [
    "buy_line = plt.plot(buy_counts, buy_times, 'r--', label = 'buy test')\n",
    "sell_line = plt.plot(sell_counts, sell_times, 'b--', label = 'sell test')\n",
    "plt.plot(buy_counts, buy_times, 'ro-', sell_counts, sell_times, 'b+-')\n",
    "plt.title('Counts of orders VS Total Block Time')\n",
    "plt.xlabel('Counts of orders')\n",
    "plt.ylabel('Total Block Time(seconds)')\n",
    "plt.legend()\n",
    "plt.show()"
   ]
  }
 ],
 "metadata": {
  "kernelspec": {
   "display_name": "Python 3.10.8 ('ai')",
   "language": "python",
   "name": "python3"
  },
  "language_info": {
   "codemirror_mode": {
    "name": "ipython",
    "version": 3
   },
   "file_extension": ".py",
   "mimetype": "text/x-python",
   "name": "python",
   "nbconvert_exporter": "python",
   "pygments_lexer": "ipython3",
   "version": "3.10.9"
  },
  "orig_nbformat": 4,
  "vscode": {
   "interpreter": {
    "hash": "23d2138e26dfb28839b83ed814a43cc60c3d8c006f4568ef7458f1442bc438e6"
   }
  }
 },
 "nbformat": 4,
 "nbformat_minor": 2
}
