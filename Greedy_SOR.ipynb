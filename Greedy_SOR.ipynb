{
 "cells": [
  {
   "cell_type": "code",
   "execution_count": 27,
   "metadata": {},
   "outputs": [],
   "source": [
    "import openpyxl\n",
    "from collections import defaultdict\n",
    "import random\n",
    "import matplotlib.pyplot as plt\n",
    "import time"
   ]
  },
  {
   "cell_type": "code",
   "execution_count": 28,
   "metadata": {},
   "outputs": [],
   "source": [
    "orders_file = 'data/orders.xlsx'\n",
    "workbook = openpyxl.load_workbook(orders_file)"
   ]
  },
  {
   "cell_type": "code",
   "execution_count": 29,
   "metadata": {},
   "outputs": [
    {
     "name": "stdout",
     "output_type": "stream",
     "text": [
      "['Microsofts', 'Netflix']\n"
     ]
    },
    {
     "name": "stderr",
     "output_type": "stream",
     "text": [
      "C:\\Users\\Thumbby\\AppData\\Local\\Temp\\ipykernel_18428\\2214667223.py:1: DeprecationWarning: Call to deprecated function get_sheet_names (Use wb.sheetnames).\n",
      "  sheetnames= workbook.get_sheet_names()\n"
     ]
    }
   ],
   "source": [
    "sheetnames= workbook.get_sheet_names()\n",
    "print(sheetnames)"
   ]
  },
  {
   "cell_type": "code",
   "execution_count": 30,
   "metadata": {},
   "outputs": [
    {
     "name": "stdout",
     "output_type": "stream",
     "text": [
      "Microsofts\n",
      "Netflix\n"
     ]
    }
   ],
   "source": [
    "sheetMSFT = workbook.worksheets[0]\n",
    "sheetNFLX = workbook.worksheets[1]\n",
    "sheetMSFTNAME = sheetMSFT.title\n",
    "sheetNFLXNAME = sheetNFLX.title\n",
    "print(sheetMSFTNAME)\n",
    "print(sheetNFLXNAME)"
   ]
  },
  {
   "cell_type": "code",
   "execution_count": 31,
   "metadata": {},
   "outputs": [
    {
     "data": {
      "text/plain": [
       "\"excelasks['BATS'] = {}\\nexcelasks['BATS'][sheetMSFTNAME] = defaultdict(list)\\nexcelasks['BATS'][sheetNFLXNAME] = defaultdict(list)\\nexcelasks['NASD'] = {}\\nexcelasks['NASD'][sheetMSFTNAME] = defaultdict(list)\\nexcelasks['NASD'][sheetNFLXNAME] = defaultdict(list)\""
      ]
     },
     "execution_count": 31,
     "metadata": {},
     "output_type": "execute_result"
    }
   ],
   "source": [
    "# excelbids = defaultdict(lambda:defaultdict(list))\n",
    "'''excelbids['BATS'] = {}\n",
    "excelbids['BATS'][sheetMSFTNAME] = defaultdict(list)\n",
    "excelbids['BATS'][sheetNFLXNAME] = defaultdict(list)\n",
    "excelbids['NASD'] = {}\n",
    "excelbids['NASD'][sheetMSFTNAME] = defaultdict(list)\n",
    "excelbids['NASD'][sheetNFLXNAME] = defaultdict(list)'''\n",
    "# excelasks = defaultdict(lambda:defaultdict(list))\n",
    "'''excelasks['BATS'] = {}\n",
    "excelasks['BATS'][sheetMSFTNAME] = defaultdict(list)\n",
    "excelasks['BATS'][sheetNFLXNAME] = defaultdict(list)\n",
    "excelasks['NASD'] = {}\n",
    "excelasks['NASD'][sheetMSFTNAME] = defaultdict(list)\n",
    "excelasks['NASD'][sheetNFLXNAME] = defaultdict(list)'''\n"
   ]
  },
  {
   "cell_type": "code",
   "execution_count": 32,
   "metadata": {},
   "outputs": [
    {
     "name": "stdout",
     "output_type": "stream",
     "text": [
      "defaultdict(<function <lambda> at 0x00000171200E5480>, {'Microsofts': defaultdict(<class 'list'>, {183.65: [['NASD', 500], ['BATS', 30]], 183.64: [['NASD', 200], ['BATS', 450]], 183.63: [['NASD', 500]], 183.92: [['NASD', 1450]], 183.81: [['NASD', 1000]], 183.73: [['BATS', 175]], 183.62: [['BATS', 400]], 183.71: [['BATS', 1050]]}), 'Netflix': defaultdict(<class 'list'>, {366.97: [['NASD', 500]], 366.96: [['NASD', 200]], 366.95: [['NASD', 500], ['BATS', 30], ['BATS', 450]], 366.94: [['NASD', 1450], ['BATS', 175]], 366.93: [['NASD', 1000], ['BATS', 400]], 366.92: [['BATS', 1050]]})})\n",
      "defaultdict(<function <lambda> at 0x0000017120941090>, {'Microsofts': defaultdict(<class 'list'>, {183.91: [['NASD', 100], ['BATS', 500]], 183.97: [['NASD', 300]], 183.93: [['NASD', 1075]], 183.94: [['NASD', 800], ['BATS', 400]], 183.85: [['NASD', 200]], 183.95: [['BATS', 1125]], 183.96: [['BATS', 675]], 183.78: [['BATS', 180]]}), 'Netflix': defaultdict(<class 'list'>, {367.23: [['NASD', 100], ['BATS', 500]], 367.24: [['NASD', 300], ['BATS', 400]], 367.25: [['NASD', 1075], ['BATS', 1125]], 367.26: [['NASD', 800]], 367.27: [['NASD', 200], ['BATS', 180]], 367.35: [['BATS', 675]]})})\n"
     ]
    }
   ],
   "source": [
    "# Get the dictionary of price-to-qunatity\n",
    "excelbids = defaultdict(lambda:defaultdict(list))\n",
    "excelasks = defaultdict(lambda:defaultdict(list))\n",
    "for i in range(3, 8):\n",
    "\tfor j in range(1, 2):\n",
    "\t\texcelbids[sheetMSFTNAME][sheetMSFT.cell(i, j).value].append(['NASD',sheetMSFT.cell(i, j+1).value])\n",
    "\tfor j in range(3, 4):\n",
    "\t\texcelasks[sheetMSFTNAME][sheetMSFT.cell(i, j).value].append(['NASD',sheetMSFT.cell(i, j+1).value])\n",
    "\n",
    "for i in range (10, 15):\n",
    "\tfor j in range(1, 2):\n",
    "\t\texcelbids[sheetMSFTNAME][sheetMSFT.cell(i, j).value].append(['BATS',sheetMSFT.cell(i, j+1).value])\n",
    "\tfor j in range(3, 4):\n",
    "\t\texcelasks[sheetMSFTNAME][sheetMSFT.cell(i, j).value].append(['BATS',sheetMSFT.cell(i, j+1).value])\n",
    "\n",
    "for i in range(3, 8):\n",
    "\tfor j in range(1, 2):\n",
    "\t\texcelbids[sheetNFLXNAME][sheetNFLX.cell(i, j).value].append(['NASD',sheetMSFT.cell(i, j+1).value])\n",
    "\tfor j in range(3, 4):\n",
    "\t\texcelasks[sheetNFLXNAME][sheetNFLX.cell(i, j).value].append(['NASD',sheetMSFT.cell(i, j+1).value])\n",
    "\n",
    "for i in range (10, 15):\n",
    "\tfor j in range(1, 2):\n",
    "\t\texcelbids[sheetNFLXNAME][sheetNFLX.cell(i, j).value].append(['BATS',sheetMSFT.cell(i, j+1).value])\n",
    "\tfor j in range(3, 4):\n",
    "\t\texcelasks[sheetNFLXNAME][sheetNFLX.cell(i, j).value].append(['BATS',sheetMSFT.cell(i, j+1).value])\n",
    "\t\t\n",
    "print(excelbids)\n",
    "print(excelasks)"
   ]
  },
  {
   "cell_type": "code",
   "execution_count": 33,
   "metadata": {},
   "outputs": [
    {
     "name": "stdout",
     "output_type": "stream",
     "text": [
      "<class 'collections.defaultdict'>\n",
      "dict_keys([183.91, 183.97, 183.93, 183.94, 183.85, 183.95, 183.96, 183.78])\n",
      "[(183.97, [['NASD', 300]]), (183.96, [['BATS', 675]]), (183.95, [['BATS', 1125]]), (183.94, [['NASD', 800], ['BATS', 400]]), (183.93, [['NASD', 1075]]), (183.91, [['NASD', 100], ['BATS', 500]]), (183.85, [['NASD', 200]]), (183.78, [['BATS', 180]])]\n"
     ]
    }
   ],
   "source": [
    "print(type(excelasks['Microsofts']))\n",
    "print(excelasks['Microsofts'].keys())\n",
    "print(sorted(excelasks['Microsofts'].items(), reverse=True))"
   ]
  },
  {
   "cell_type": "code",
   "execution_count": 34,
   "metadata": {},
   "outputs": [],
   "source": [
    "def smart_order_router(side, symbol, qty, order_type='market', price=None):\n",
    "    needed_qty = qty\n",
    "    route = {}\n",
    "    available_qty = 0\n",
    "    if side == 'buy':\n",
    "        ask_shared = sorted(excelasks[symbol].items())\n",
    "        for shared in ask_shared:\n",
    "            if qty <= 0:\n",
    "                break\n",
    "            ask_price = shared[0]\n",
    "            order_info = shared[1]\n",
    "            if order_type == 'market' or ask_price <= price:\n",
    "                for order in order_info:\n",
    "                    exchanger = order[0]\n",
    "                    ask_qty = order[1]\n",
    "                    if exchanger not in route:\n",
    "                        route[exchanger] = {}\n",
    "                    if ask_qty >= qty and qty>0:\n",
    "                        route[exchanger][ask_price] = qty\n",
    "                        available_qty += qty\n",
    "                        qty = 0\n",
    "                    elif qty > 0:\n",
    "                        route[exchanger][ask_price] = ask_qty\n",
    "                        available_qty += ask_qty\n",
    "                        qty = qty - ask_qty\n",
    "    elif side == 'sell':\n",
    "        bid_shared = sorted(excelbids[symbol].items(), reverse = True)\n",
    "        for shared in bid_shared:\n",
    "            if qty <= 0:\n",
    "                break\n",
    "            bid_price = shared[0]\n",
    "            order_info = shared[1]\n",
    "            if order_type == 'market' or bid_price >= price:\n",
    "                for order in order_info:\n",
    "                    exchanger = order[0]\n",
    "                    bid_qty = order[1]\n",
    "                    if exchanger not in route:\n",
    "                        route[exchanger] = {}\n",
    "                    if bid_qty >= qty and qty>0:\n",
    "                        route[exchanger][bid_price] = qty\n",
    "                        available_qty += qty\n",
    "                        qty = 0\n",
    "                    elif qty > 0:\n",
    "                        route[exchanger][bid_price] = bid_qty\n",
    "                        available_qty += bid_qty\n",
    "                        qty = qty - bid_qty\n",
    "    order = {'route':route, 'leave_qty':needed_qty - available_qty}\n",
    "    return order    "
   ]
  },
  {
   "cell_type": "code",
   "execution_count": 35,
   "metadata": {},
   "outputs": [
    {
     "name": "stdout",
     "output_type": "stream",
     "text": [
      "This investor want to buy 2842 shared at 184.04 price\n",
      "{'route': {'BATS': {183.78: 180, 183.91: 500}, 'NASD': {183.85: 200, 183.91: 100, 183.93: 1075, 183.94: 787}}, 'leave_qty': 0}\n"
     ]
    }
   ],
   "source": [
    "qty = random.randint(1000, 5000)\n",
    "limit_price = round(random.uniform(183.5, 184.5), 2)\n",
    "route = smart_order_router('buy', 'Microsofts', qty, 'limit', limit_price)\n",
    "print(f'This investor want to buy {qty} shared at {limit_price} price')\n",
    "print(route)"
   ]
  },
  {
   "cell_type": "code",
   "execution_count": 36,
   "metadata": {},
   "outputs": [
    {
     "name": "stdout",
     "output_type": "stream",
     "text": [
      "This investor want to sell 3608 shared at 183.77 price\n",
      "{'route': {'NASD': {183.92: 1450, 183.81: 1000}}, 'leave_qty': 1158}\n"
     ]
    }
   ],
   "source": [
    "qty = random.randint(1000, 5000)\n",
    "limit_price = round(random.uniform(183.5, 184.5), 2)\n",
    "route = smart_order_router('sell', 'Microsofts', qty, 'limit', limit_price)\n",
    "print(f'This investor want to sell {qty} shared at {limit_price} price')\n",
    "print(route)"
   ]
  },
  {
   "cell_type": "code",
   "execution_count": 40,
   "metadata": {},
   "outputs": [],
   "source": [
    "# buy test\n",
    "buy_times = []\n",
    "buy_counts = []\n",
    "step = 0\n",
    "for i in range(100, 1000, 100):\n",
    "    start_time = time.time()\n",
    "    for order_count in range(0, i):\n",
    "        qty = random.randint(1000, 5000)\n",
    "        limit_price = round(random.uniform(183.5, 184.5), 2)\n",
    "        route = smart_order_router('buy', 'Microsofts', qty, 'limit', limit_price)\n",
    "        '''print(f'This investor want to buy {qty} shared at {limit_price} price')\n",
    "        print(route)'''\n",
    "    end_time = time.time()\n",
    "    buy_times.append(end_time - start_time)\n",
    "    buy_counts.append(i)"
   ]
  },
  {
   "cell_type": "code",
   "execution_count": 41,
   "metadata": {},
   "outputs": [],
   "source": [
    "# sell test\n",
    "sell_times = []\n",
    "sell_counts = []\n",
    "step = 0\n",
    "for i in range(100, 1000, 100):\n",
    "    start_time = time.time()\n",
    "    for order_count in range(0, i):\n",
    "        qty = random.randint(1000, 5000)\n",
    "        limit_price = round(random.uniform(183.5, 184.5), 2)\n",
    "        route = smart_order_router('sell', 'Microsofts', qty, 'limit', limit_price)\n",
    "        '''print(f'This investor want to sell {qty} shared at {limit_price} price')\n",
    "        print(route)'''\n",
    "    end_time = time.time()\n",
    "    sell_times.append(end_time - start_time)\n",
    "    sell_counts.append(i)"
   ]
  },
  {
   "cell_type": "code",
   "execution_count": 42,
   "metadata": {},
   "outputs": [
    {
     "data": {
      "image/png": "[encoded data removed]",
      "text/plain": [
       "<Figure size 640x480 with 1 Axes>"
      ]
     },
     "metadata": {},
     "output_type": "display_data"
    }
   ],
   "source": [
    "buy_line = plt.plot(buy_counts, buy_times, 'r--', label = 'buy test')\n",
    "sell_line = plt.plot(sell_counts, sell_times, 'b--', label = 'sell test')\n",
    "plt.plot(buy_counts, buy_times, 'ro-', sell_counts, sell_times, 'b+-')\n",
    "plt.title('Counts of orders VS Total Block Time')\n",
    "plt.xlabel('Counts of orders')\n",
    "plt.ylabel('Total Block Time(seconds)')\n",
    "plt.legend()\n",
    "plt.show()"
   ]
  }
 ],
 "metadata": {
  "kernelspec": {
   "display_name": "Python 3.10.8 ('ai')",
   "language": "python",
   "name": "python3"
  },
  "language_info": {
   "codemirror_mode": {
    "name": "ipython",
    "version": 3
   },
   "file_extension": ".py",
   "mimetype": "text/x-python",
   "name": "python",
   "nbconvert_exporter": "python",
   "pygments_lexer": "ipython3",
   "version": "3.10.9"
  },
  "orig_nbformat": 4,
  "vscode": {
   "interpreter": {
    "hash": "23d2138e26dfb28839b83ed814a43cc60c3d8c006f4568ef7458f1442bc438e6"
   }
  }
 },
 "nbformat": 4,
 "nbformat_minor": 2
}
