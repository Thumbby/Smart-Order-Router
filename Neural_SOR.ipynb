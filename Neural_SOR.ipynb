{
 "cells": [
  {
   "cell_type": "code",
   "execution_count": 1,
   "metadata": {},
   "outputs": [],
   "source": [
    "import sys\n",
    "import os\n",
    "import numpy as np\n",
    "import tensorflow as tf\n",
    "from tensorflow import keras\n",
    "import matplotlib.pyplot as plt\n",
    "from keras.models import load_model\n",
    "import keras.backend as K\n",
    "import openpyxl\n",
    "from collections import defaultdict\n",
    "import random\n",
    "import matplotlib.pyplot as plt\n",
    "import time\n",
    "from keras.models import Model\n",
    "from keras.layers import Dense, Activation, Lambda, Input, Concatenate, Multiply\n",
    "from keras.metrics import binary_accuracy\n",
    "from keras.losses import binary_crossentropy"
   ]
  },
  {
   "cell_type": "code",
   "execution_count": 14,
   "metadata": {},
   "outputs": [],
   "source": [
    "def brute_force_knapsack(side, x_weights, x_prices, x_capacity):\n",
    "    item_count = x_weights.shape[0]\n",
    "    best_picks = np.zeros(item_count)\n",
    "    if side == 'buy':\n",
    "        picks_space = 2 ** item_count\n",
    "        best_price = sys.maxsize\n",
    "        best_weight = 0\n",
    "        for p in range(picks_space):\n",
    "            picks = [1-int(c) for c in f\"{p:0{item_count}b}\"]\n",
    "            price = np.dot(x_prices, picks)\n",
    "            weight = np.dot(x_weights, picks)\n",
    "            if weight >= best_weight and weight <= x_capacity and price < best_price:\n",
    "                best_price = price\n",
    "                best_picks = picks\n",
    "                best_weight = weight\n",
    "    elif side == 'sell':\n",
    "        picks_space = 2 ** item_count\n",
    "        best_price = 0\n",
    "        for p in range(picks_space):\n",
    "            picks = [int(c) for c in f\"{p:0{item_count}b}\"]\n",
    "            price = np.dot(x_prices, picks)\n",
    "            weight = np.dot(x_weights, picks)\n",
    "            if weight <= x_capacity and price > best_price:\n",
    "                best_price = price\n",
    "                best_picks = picks\n",
    "    return best_picks"
   ]
  },
  {
   "cell_type": "code",
   "execution_count": 15,
   "metadata": {},
   "outputs": [],
   "source": [
    "def create_knapsack(side, item_count):\n",
    "    x_weights = np.random.randint(100, 1000, item_count)\n",
    "    x_prices = np.random.randint(100, 200, item_count)\n",
    "    x_capacity = random.randint(2000, 5000)\n",
    "    y = brute_force_knapsack(side, x_weights, x_prices, x_capacity)\n",
    "    '''print(f'Qty:{x_weights}')\n",
    "    print(f'Price:{x_prices}')\n",
    "    print(f'Capacity:{x_capacity}')\n",
    "    print(f'Picks:{y}')'''\n",
    "    return x_weights, x_prices, x_capacity, y"
   ]
  },
  {
   "cell_type": "code",
   "execution_count": 16,
   "metadata": {},
   "outputs": [],
   "source": [
    "def create_knapsack_dataset(side, round, item_count):\n",
    "    x1 = []\n",
    "    x2 = []\n",
    "    x3 = []\n",
    "    y = []\n",
    "    for _ in range(round):\n",
    "        x_weights, x_prices, x_capacity, answer = create_knapsack(side, item_count)\n",
    "        # x1.append(x_weights / x_capacity)\n",
    "        # x2.append(x_prices / x_prices.max())\n",
    "        x1.append(x_weights)\n",
    "        x2.append(x_prices)\n",
    "        x3.append(x_capacity)\n",
    "        y.append(answer)\n",
    "    return [np.array(x1), np.array(x2), np.array(x3)], np.array(y)"
   ]
  },
  {
   "cell_type": "code",
   "execution_count": 17,
   "metadata": {},
   "outputs": [],
   "source": [
    "def metric_overprice(input_prices):\n",
    "    def overpricing(y_true, y_pred):\n",
    "        y_pred = tf.keras.backend.round(y_pred)\n",
    "        return tf.keras.backend.mean(tf.keras.backend.batch_dot(y_pred, input_prices, 1) - tf.keras.backend.batch_dot(y_true, input_prices, 1))\n",
    "\n",
    "    return overpricing"
   ]
  },
  {
   "cell_type": "code",
   "execution_count": 18,
   "metadata": {},
   "outputs": [],
   "source": [
    "def metric_space_violation(input_weights, input_capacity):\n",
    "    def space_violation(y_true, y_pred):\n",
    "        y_pred = tf.keras.backend.round(y_pred)\n",
    "        return tf.keras.backend.mean(tf.keras.backend.maximum(tf.keras.backend.batch_dot(y_pred, input_weights, 1) - input_capacity, 0))\n",
    "\n",
    "    return space_violation"
   ]
  },
  {
   "cell_type": "code",
   "execution_count": 19,
   "metadata": {},
   "outputs": [],
   "source": [
    "def metric_pick_count():\n",
    "    def pick_count(y_true, y_pred):\n",
    "        y_pred = tf.keras.backend.round(y_pred)\n",
    "        return tf.keras.backend.mean(tf.keras.backend.sum(y_pred, -1) - tf.keras.backend.sum(y_true, -1))\n",
    "\n",
    "    return pick_count"
   ]
  },
  {
   "cell_type": "code",
   "execution_count": 20,
   "metadata": {},
   "outputs": [],
   "source": [
    "def knapsack_loss(input_weights, input_prices, input_capacity, cvc=1):\n",
    "    def loss(y_true, y_pred):\n",
    "        picks = y_pred\n",
    "        return (-1 * K.batch_dot(picks, input_prices, 1)) + cvc * K.maximum(\n",
    "            K.batch_dot(picks, input_weights, 1) - input_capacity, 0)\n",
    "    return loss"
   ]
  },
  {
   "cell_type": "code",
   "execution_count": 21,
   "metadata": {},
   "outputs": [
    {
     "data": {
      "text/plain": [
       "', metric_space_violation(input_weights, input_capacity),\\n                           metric_overprice(input_prices), metric_pick_count()'"
      ]
     },
     "execution_count": 21,
     "metadata": {},
     "output_type": "execute_result"
    }
   ],
   "source": [
    "def supervised_discrete_model(item_count):\n",
    "    input_weights = Input((item_count,), name=\"Weights\")\n",
    "    input_prices = Input((item_count,), name=\"Prices\")\n",
    "    input_capacity = Input((1,))\n",
    "    inputs_concat = Concatenate()([input_weights, input_prices, input_capacity])\n",
    "    concat_tanh = tf.keras.layers.Dense(item_count, use_bias=False, activation=\"tanh\")(inputs_concat)\n",
    "    concat_sigmoid = tf.keras.layers.Dense(item_count, use_bias=False, activation=\"sigmoid\")(inputs_concat)\n",
    "    concat_multiply = Multiply()([concat_sigmoid, concat_tanh])\n",
    "    results = Multiply()([concat_multiply, concat_multiply])\n",
    "    model = tf.keras.Model(inputs=[input_weights, input_prices, input_capacity], outputs=[results])\n",
    "    '''picks = tf.keras.layers.Dense(item_count ** 2 + item_count * 2, activation=\"sigmoid\", name=\"Hidden\")(inputs_concat)\n",
    "    picks = tf.keras.layers.Dense(item_count, activation=\"sigmoid\", name=\"Output\")(picks)\n",
    "    model = tf.keras.Model(inputs=[input_weights, input_prices, input_capacity], outputs=[picks])'''\n",
    "    \n",
    "    '''lr_schedule = keras.optimizers.schedules.ExponentialDecay(\n",
    "                  initial_learning_rate=0.01,\n",
    "                  decay_steps=100,\n",
    "                  decay_rate=0.9)                 \n",
    "    opt = keras.optimizers.SGD(learning_rate=lr_schedule)'''\n",
    "    model.compile(optimizer = 'sgd',\n",
    "                  loss = binary_crossentropy,\n",
    "                  metrics=[binary_accuracy])\n",
    "    return model\n",
    "''', metric_space_violation(input_weights, input_capacity),\n",
    "                           metric_overprice(input_prices), metric_pick_count()'''"
   ]
  },
  {
   "cell_type": "code",
   "execution_count": 22,
   "metadata": {},
   "outputs": [],
   "source": [
    "def train_knapsack(side, model, train_x, train_y, test_x, test_y):\n",
    "    if side == 'buy':\n",
    "        if os.path.exists(\"buy_supervised_discrete_rnn.h5\"): os.remove(\"buy_supervised_discrete_rnn.h5\")\n",
    "        history = model.fit(train_x, train_y, validation_split=0.2, epochs=100, verbose=1,\n",
    "                callbacks=[\n",
    "                    tf.keras.callbacks.ModelCheckpoint(\"buy_supervised_discrete_rnn.h5\", monitor=\"binary_accuracy\", save_best_only=True,\n",
    "                                                        save_weights_only=False)])\n",
    "    elif side == 'sell':\n",
    "        if os.path.exists(\"sell_supervised_discrete_rnn.h5\"): os.remove(\"sell_supervised_discrete_rnn.h5\")\n",
    "        history = model.fit(train_x, train_y, validation_split=0.2, epochs=100, verbose=1,\n",
    "                callbacks=[\n",
    "                    tf.keras.callbacks.ModelCheckpoint(\"sell_supervised_discrete_rnn.h5\", monitor=\"binary_accuracy\", save_best_only=True,\n",
    "                                                        save_weights_only=False)])\n",
    "    print(history.params)\n",
    "    plt.plot(history.history['binary_accuracy'])\n",
    "    plt.plot(history.history['val_binary_accuracy'])\n",
    "    plt.title('Model accuracy')\n",
    "    plt.ylabel('Accuracy')\n",
    "    plt.xlabel('Epoch')\n",
    "    plt.legend(['Train', 'Validation'], loc='upper left')\n",
    "    plt.show()\n",
    "\n",
    "    plt.plot(history.history['loss'])\n",
    "    plt.plot(history.history['val_loss'])\n",
    "    plt.title('Model loss')\n",
    "    plt.ylabel('Loss')\n",
    "    plt.xlabel('Epoch')\n",
    "    plt.legend(['Train', 'Validation'], loc='upper left')\n",
    "    plt.show()\n",
    "\n",
    "    model.load_weights(\"buy_supervised_discrete_rnn.h5\")\n",
    "    train_results = model.evaluate(train_x, train_y, 64, 0)\n",
    "    test_results = model.evaluate(test_x, test_y, 64, 0)\n",
    "    print(\"Model results(Train/Test):\")\n",
    "    print(f\"Loss:               {train_results[0]:.2f} / {test_results[0]:.2f}\")\n",
    "    print(f\"Binary accuracy:    {train_results[1]:.2f} / {test_results[1]:.2f}\")\n",
    "    '''print(f\"Space violation:    {train_results[2]:.2f} / {test_results[2]:.2f}\")\n",
    "    print(f\"Overpricing:        {train_results[3]:.2f} / {test_results[3]:.2f}\")\n",
    "    print(f\"Pick count:         {train_results[4]:.2f} / {test_results[4]:.2f}\")'''"
   ]
  },
  {
   "cell_type": "code",
   "execution_count": 38,
   "metadata": {},
   "outputs": [],
   "source": [
    "tf.compat.v1.disable_eager_execution()\n",
    "item_count_buy = 10\n",
    "train_x, train_y = create_knapsack_dataset('buy', 12000, item_count_buy)\n",
    "test_x, test_y = create_knapsack_dataset('buy', 200, item_count_buy)"
   ]
  },
  {
   "cell_type": "code",
   "execution_count": 80,
   "metadata": {},
   "outputs": [
    {
     "name": "stdout",
     "output_type": "stream",
     "text": [
      "Train on 9600 samples, validate on 2400 samples\n",
      "Epoch 1/100\n",
      "8992/9600 [===========================>..] - ETA: 0s - loss: 7.2210 - binary_accuracy: 0.5306"
     ]
    },
    {
     "name": "stderr",
     "output_type": "stream",
     "text": [
      "d:\\Anaconda\\envs\\ai\\lib\\site-packages\\keras\\engine\\training_v1.py:2057: UserWarning: `Model.state_updates` will be removed in a future version. This property should not be used in TensorFlow 2.0, as `updates` are applied automatically.\n",
      "  updates = self.state_updates\n"
     ]
    },
    {
     "name": "stdout",
     "output_type": "stream",
     "text": [
      "9600/9600 [==============================] - 0s 45us/sample - loss: 7.2104 - binary_accuracy: 0.5313 - val_loss: 7.0662 - val_binary_accuracy: 0.5399\n",
      "Epoch 2/100\n",
      "9600/9600 [==============================] - 0s 30us/sample - loss: 7.0041 - binary_accuracy: 0.5448 - val_loss: 6.3920 - val_binary_accuracy: 0.5833\n",
      "Epoch 3/100\n",
      "9600/9600 [==============================] - 0s 26us/sample - loss: 6.3840 - binary_accuracy: 0.5849 - val_loss: 6.3920 - val_binary_accuracy: 0.5833\n",
      "Epoch 4/100\n",
      "9600/9600 [==============================] - 0s 27us/sample - loss: 6.3840 - binary_accuracy: 0.5849 - val_loss: 6.3920 - val_binary_accuracy: 0.5833\n",
      "Epoch 5/100\n",
      "9600/9600 [==============================] - 0s 24us/sample - loss: 6.3840 - binary_accuracy: 0.5849 - val_loss: 6.3920 - val_binary_accuracy: 0.5833\n",
      "Epoch 6/100\n",
      "9600/9600 [==============================] - 0s 21us/sample - loss: 6.3840 - binary_accuracy: 0.5849 - val_loss: 6.3920 - val_binary_accuracy: 0.5833\n",
      "Epoch 7/100\n",
      "9600/9600 [==============================] - 0s 21us/sample - loss: 6.3840 - binary_accuracy: 0.5849 - val_loss: 6.3920 - val_binary_accuracy: 0.5833\n",
      "Epoch 8/100\n",
      "9600/9600 [==============================] - 0s 21us/sample - loss: 6.3840 - binary_accuracy: 0.5849 - val_loss: 6.3920 - val_binary_accuracy: 0.5833\n",
      "Epoch 9/100\n",
      "9600/9600 [==============================] - 0s 21us/sample - loss: 6.3840 - binary_accuracy: 0.5849 - val_loss: 6.3920 - val_binary_accuracy: 0.5833\n",
      "Epoch 10/100\n",
      "9600/9600 [==============================] - 0s 20us/sample - loss: 6.3840 - binary_accuracy: 0.5849 - val_loss: 6.3920 - val_binary_accuracy: 0.5833\n",
      "Epoch 11/100\n",
      "9600/9600 [==============================] - 0s 20us/sample - loss: 6.3840 - binary_accuracy: 0.5849 - val_loss: 6.3920 - val_binary_accuracy: 0.5833\n",
      "Epoch 12/100\n",
      "9600/9600 [==============================] - 0s 20us/sample - loss: 6.3840 - binary_accuracy: 0.5849 - val_loss: 6.3920 - val_binary_accuracy: 0.5833\n",
      "Epoch 13/100\n",
      "9600/9600 [==============================] - 0s 20us/sample - loss: 6.3840 - binary_accuracy: 0.5849 - val_loss: 6.3920 - val_binary_accuracy: 0.5833\n",
      "Epoch 14/100\n",
      "9600/9600 [==============================] - 0s 22us/sample - loss: 6.3840 - binary_accuracy: 0.5849 - val_loss: 6.3920 - val_binary_accuracy: 0.5833\n",
      "Epoch 15/100\n",
      "9600/9600 [==============================] - 0s 23us/sample - loss: 6.3840 - binary_accuracy: 0.5849 - val_loss: 6.3920 - val_binary_accuracy: 0.5833\n",
      "Epoch 16/100\n",
      "9600/9600 [==============================] - 0s 21us/sample - loss: 6.3840 - binary_accuracy: 0.5849 - val_loss: 6.3920 - val_binary_accuracy: 0.5833\n",
      "Epoch 17/100\n",
      "9600/9600 [==============================] - 0s 20us/sample - loss: 6.3840 - binary_accuracy: 0.5849 - val_loss: 6.3920 - val_binary_accuracy: 0.5833\n",
      "Epoch 18/100\n",
      "9600/9600 [==============================] - 0s 20us/sample - loss: 6.3840 - binary_accuracy: 0.5849 - val_loss: 6.3920 - val_binary_accuracy: 0.5833\n",
      "Epoch 19/100\n",
      "9600/9600 [==============================] - 0s 20us/sample - loss: 6.3840 - binary_accuracy: 0.5849 - val_loss: 6.3920 - val_binary_accuracy: 0.5833\n",
      "Epoch 20/100\n",
      "9600/9600 [==============================] - 0s 21us/sample - loss: 6.3840 - binary_accuracy: 0.5849 - val_loss: 6.3920 - val_binary_accuracy: 0.5833\n",
      "Epoch 21/100\n",
      "9600/9600 [==============================] - 0s 20us/sample - loss: 6.3840 - binary_accuracy: 0.5849 - val_loss: 6.3920 - val_binary_accuracy: 0.5833\n",
      "Epoch 22/100\n",
      "9600/9600 [==============================] - 0s 23us/sample - loss: 6.3840 - binary_accuracy: 0.5849 - val_loss: 6.3920 - val_binary_accuracy: 0.5833\n",
      "Epoch 23/100\n",
      "9600/9600 [==============================] - 0s 20us/sample - loss: 6.3840 - binary_accuracy: 0.5849 - val_loss: 6.3920 - val_binary_accuracy: 0.5833\n",
      "Epoch 24/100\n",
      "9600/9600 [==============================] - 0s 21us/sample - loss: 6.3840 - binary_accuracy: 0.5849 - val_loss: 6.3920 - val_binary_accuracy: 0.5833\n",
      "Epoch 25/100\n",
      "9600/9600 [==============================] - 0s 20us/sample - loss: 6.3840 - binary_accuracy: 0.5849 - val_loss: 6.3920 - val_binary_accuracy: 0.5833\n",
      "Epoch 26/100\n",
      "9600/9600 [==============================] - 0s 22us/sample - loss: 6.3840 - binary_accuracy: 0.5849 - val_loss: 6.3920 - val_binary_accuracy: 0.5833\n",
      "Epoch 27/100\n",
      "9600/9600 [==============================] - 0s 21us/sample - loss: 6.3840 - binary_accuracy: 0.5849 - val_loss: 6.3920 - val_binary_accuracy: 0.5833\n",
      "Epoch 28/100\n",
      "9600/9600 [==============================] - 0s 22us/sample - loss: 6.3840 - binary_accuracy: 0.5849 - val_loss: 6.3920 - val_binary_accuracy: 0.5833\n",
      "Epoch 29/100\n",
      "9600/9600 [==============================] - 0s 21us/sample - loss: 6.3840 - binary_accuracy: 0.5849 - val_loss: 6.3920 - val_binary_accuracy: 0.5833\n",
      "Epoch 30/100\n",
      "9600/9600 [==============================] - 0s 20us/sample - loss: 6.3840 - binary_accuracy: 0.5849 - val_loss: 6.3920 - val_binary_accuracy: 0.5833\n",
      "Epoch 31/100\n",
      "9600/9600 [==============================] - 0s 20us/sample - loss: 6.3840 - binary_accuracy: 0.5849 - val_loss: 6.3920 - val_binary_accuracy: 0.5833\n",
      "Epoch 32/100\n",
      "9600/9600 [==============================] - 0s 22us/sample - loss: 6.3840 - binary_accuracy: 0.5849 - val_loss: 6.3920 - val_binary_accuracy: 0.5833\n",
      "Epoch 33/100\n",
      "9600/9600 [==============================] - 0s 20us/sample - loss: 6.3840 - binary_accuracy: 0.5849 - val_loss: 6.3920 - val_binary_accuracy: 0.5833\n",
      "Epoch 34/100\n",
      "9600/9600 [==============================] - 0s 19us/sample - loss: 6.3840 - binary_accuracy: 0.5849 - val_loss: 6.3920 - val_binary_accuracy: 0.5833\n",
      "Epoch 35/100\n",
      "9600/9600 [==============================] - 0s 20us/sample - loss: 6.3840 - binary_accuracy: 0.5849 - val_loss: 6.3920 - val_binary_accuracy: 0.5833\n",
      "Epoch 36/100\n",
      "9600/9600 [==============================] - 0s 20us/sample - loss: 6.3840 - binary_accuracy: 0.5849 - val_loss: 6.3920 - val_binary_accuracy: 0.5833\n",
      "Epoch 37/100\n",
      "9600/9600 [==============================] - 0s 20us/sample - loss: 6.3840 - binary_accuracy: 0.5849 - val_loss: 6.3920 - val_binary_accuracy: 0.5833\n",
      "Epoch 38/100\n",
      "9600/9600 [==============================] - 0s 21us/sample - loss: 6.3840 - binary_accuracy: 0.5849 - val_loss: 6.3920 - val_binary_accuracy: 0.5833\n",
      "Epoch 39/100\n",
      "9600/9600 [==============================] - 0s 20us/sample - loss: 6.3840 - binary_accuracy: 0.5849 - val_loss: 6.3920 - val_binary_accuracy: 0.5833\n",
      "Epoch 40/100\n",
      "9600/9600 [==============================] - 0s 21us/sample - loss: 6.3840 - binary_accuracy: 0.5849 - val_loss: 6.3920 - val_binary_accuracy: 0.5833\n",
      "Epoch 41/100\n",
      "9600/9600 [==============================] - 0s 20us/sample - loss: 6.3840 - binary_accuracy: 0.5849 - val_loss: 6.3920 - val_binary_accuracy: 0.5833\n",
      "Epoch 42/100\n",
      "9600/9600 [==============================] - 0s 20us/sample - loss: 6.3840 - binary_accuracy: 0.5849 - val_loss: 6.3920 - val_binary_accuracy: 0.5833\n",
      "Epoch 43/100\n",
      "9600/9600 [==============================] - 0s 21us/sample - loss: 6.3840 - binary_accuracy: 0.5849 - val_loss: 6.3920 - val_binary_accuracy: 0.5833\n",
      "Epoch 44/100\n",
      "9600/9600 [==============================] - 0s 24us/sample - loss: 6.3840 - binary_accuracy: 0.5849 - val_loss: 6.3920 - val_binary_accuracy: 0.5833\n",
      "Epoch 45/100\n",
      "9600/9600 [==============================] - 0s 20us/sample - loss: 6.3840 - binary_accuracy: 0.5849 - val_loss: 6.3920 - val_binary_accuracy: 0.5833\n",
      "Epoch 46/100\n",
      "9600/9600 [==============================] - 0s 20us/sample - loss: 6.3840 - binary_accuracy: 0.5849 - val_loss: 6.3920 - val_binary_accuracy: 0.5833\n",
      "Epoch 47/100\n",
      "9600/9600 [==============================] - 0s 24us/sample - loss: 6.3840 - binary_accuracy: 0.5849 - val_loss: 6.3920 - val_binary_accuracy: 0.5833\n",
      "Epoch 48/100\n",
      "9600/9600 [==============================] - 0s 23us/sample - loss: 6.3840 - binary_accuracy: 0.5849 - val_loss: 6.3920 - val_binary_accuracy: 0.5833\n",
      "Epoch 49/100\n",
      "9600/9600 [==============================] - 0s 21us/sample - loss: 6.3840 - binary_accuracy: 0.5849 - val_loss: 6.3920 - val_binary_accuracy: 0.5833\n",
      "Epoch 50/100\n",
      "9600/9600 [==============================] - 0s 22us/sample - loss: 6.3840 - binary_accuracy: 0.5849 - val_loss: 6.3920 - val_binary_accuracy: 0.5833\n",
      "Epoch 51/100\n",
      "9600/9600 [==============================] - 0s 21us/sample - loss: 6.3840 - binary_accuracy: 0.5849 - val_loss: 6.3920 - val_binary_accuracy: 0.5833\n",
      "Epoch 52/100\n",
      "9600/9600 [==============================] - 0s 22us/sample - loss: 6.3840 - binary_accuracy: 0.5849 - val_loss: 6.3920 - val_binary_accuracy: 0.5833\n",
      "Epoch 53/100\n",
      "9600/9600 [==============================] - 0s 20us/sample - loss: 6.3840 - binary_accuracy: 0.5849 - val_loss: 6.3920 - val_binary_accuracy: 0.5833\n",
      "Epoch 54/100\n",
      "9600/9600 [==============================] - 0s 20us/sample - loss: 6.3840 - binary_accuracy: 0.5849 - val_loss: 6.3920 - val_binary_accuracy: 0.5833\n",
      "Epoch 55/100\n",
      "9600/9600 [==============================] - 0s 19us/sample - loss: 6.3840 - binary_accuracy: 0.5849 - val_loss: 6.3920 - val_binary_accuracy: 0.5833\n",
      "Epoch 56/100\n",
      "9600/9600 [==============================] - 0s 21us/sample - loss: 6.3840 - binary_accuracy: 0.5849 - val_loss: 6.3920 - val_binary_accuracy: 0.5833\n",
      "Epoch 57/100\n",
      "9600/9600 [==============================] - 0s 20us/sample - loss: 6.3840 - binary_accuracy: 0.5849 - val_loss: 6.3920 - val_binary_accuracy: 0.5833\n",
      "Epoch 58/100\n",
      "9600/9600 [==============================] - 0s 20us/sample - loss: 6.3840 - binary_accuracy: 0.5849 - val_loss: 6.3920 - val_binary_accuracy: 0.5833\n",
      "Epoch 59/100\n",
      "9600/9600 [==============================] - 0s 21us/sample - loss: 6.3840 - binary_accuracy: 0.5849 - val_loss: 6.3920 - val_binary_accuracy: 0.5833\n",
      "Epoch 60/100\n",
      "9600/9600 [==============================] - 0s 20us/sample - loss: 6.3840 - binary_accuracy: 0.5849 - val_loss: 6.3920 - val_binary_accuracy: 0.5833\n",
      "Epoch 61/100\n",
      "9600/9600 [==============================] - 0s 21us/sample - loss: 6.3840 - binary_accuracy: 0.5849 - val_loss: 6.3920 - val_binary_accuracy: 0.5833\n",
      "Epoch 62/100\n",
      "9600/9600 [==============================] - 0s 21us/sample - loss: 6.3840 - binary_accuracy: 0.5849 - val_loss: 6.3920 - val_binary_accuracy: 0.5833\n",
      "Epoch 63/100\n",
      "9600/9600 [==============================] - 0s 20us/sample - loss: 6.3840 - binary_accuracy: 0.5849 - val_loss: 6.3920 - val_binary_accuracy: 0.5833\n",
      "Epoch 64/100\n",
      "9600/9600 [==============================] - 0s 21us/sample - loss: 6.3840 - binary_accuracy: 0.5849 - val_loss: 6.3920 - val_binary_accuracy: 0.5833\n",
      "Epoch 65/100\n",
      "9600/9600 [==============================] - 0s 20us/sample - loss: 6.3840 - binary_accuracy: 0.5849 - val_loss: 6.3920 - val_binary_accuracy: 0.5833\n",
      "Epoch 66/100\n",
      "9600/9600 [==============================] - 0s 20us/sample - loss: 6.3840 - binary_accuracy: 0.5849 - val_loss: 6.3920 - val_binary_accuracy: 0.5833\n",
      "Epoch 67/100\n",
      "9600/9600 [==============================] - 0s 20us/sample - loss: 6.3840 - binary_accuracy: 0.5849 - val_loss: 6.3920 - val_binary_accuracy: 0.5833\n",
      "Epoch 68/100\n",
      "9600/9600 [==============================] - 0s 20us/sample - loss: 6.3840 - binary_accuracy: 0.5849 - val_loss: 6.3920 - val_binary_accuracy: 0.5833\n",
      "Epoch 69/100\n",
      "9600/9600 [==============================] - 0s 20us/sample - loss: 6.3840 - binary_accuracy: 0.5849 - val_loss: 6.3920 - val_binary_accuracy: 0.5833\n",
      "Epoch 70/100\n",
      "9600/9600 [==============================] - 0s 20us/sample - loss: 6.3840 - binary_accuracy: 0.5849 - val_loss: 6.3920 - val_binary_accuracy: 0.5833\n",
      "Epoch 71/100\n",
      "9600/9600 [==============================] - 0s 20us/sample - loss: 6.3840 - binary_accuracy: 0.5849 - val_loss: 6.3920 - val_binary_accuracy: 0.5833\n",
      "Epoch 72/100\n",
      "9600/9600 [==============================] - 0s 20us/sample - loss: 6.3840 - binary_accuracy: 0.5849 - val_loss: 6.3920 - val_binary_accuracy: 0.5833\n",
      "Epoch 73/100\n",
      "9600/9600 [==============================] - 0s 23us/sample - loss: 6.3840 - binary_accuracy: 0.5849 - val_loss: 6.3920 - val_binary_accuracy: 0.5833\n",
      "Epoch 74/100\n",
      "9600/9600 [==============================] - 0s 20us/sample - loss: 6.3840 - binary_accuracy: 0.5849 - val_loss: 6.3920 - val_binary_accuracy: 0.5833\n",
      "Epoch 75/100\n",
      "9600/9600 [==============================] - 0s 20us/sample - loss: 6.3840 - binary_accuracy: 0.5849 - val_loss: 6.3920 - val_binary_accuracy: 0.5833\n",
      "Epoch 76/100\n",
      "9600/9600 [==============================] - 0s 20us/sample - loss: 6.3840 - binary_accuracy: 0.5849 - val_loss: 6.3920 - val_binary_accuracy: 0.5833\n",
      "Epoch 77/100\n",
      "9600/9600 [==============================] - 0s 20us/sample - loss: 6.3840 - binary_accuracy: 0.5849 - val_loss: 6.3920 - val_binary_accuracy: 0.5833\n",
      "Epoch 78/100\n",
      "9600/9600 [==============================] - 0s 20us/sample - loss: 6.3840 - binary_accuracy: 0.5849 - val_loss: 6.3920 - val_binary_accuracy: 0.5833\n",
      "Epoch 79/100\n",
      "9600/9600 [==============================] - 0s 19us/sample - loss: 6.3840 - binary_accuracy: 0.5849 - val_loss: 6.3920 - val_binary_accuracy: 0.5833\n",
      "Epoch 80/100\n",
      "9600/9600 [==============================] - 0s 20us/sample - loss: 6.3840 - binary_accuracy: 0.5849 - val_loss: 6.3920 - val_binary_accuracy: 0.5833\n",
      "Epoch 81/100\n",
      "9600/9600 [==============================] - 0s 23us/sample - loss: 6.3840 - binary_accuracy: 0.5849 - val_loss: 6.3920 - val_binary_accuracy: 0.5833\n",
      "Epoch 82/100\n",
      "9600/9600 [==============================] - 0s 20us/sample - loss: 6.3840 - binary_accuracy: 0.5849 - val_loss: 6.3920 - val_binary_accuracy: 0.5833\n",
      "Epoch 83/100\n",
      "9600/9600 [==============================] - 0s 21us/sample - loss: 6.3840 - binary_accuracy: 0.5849 - val_loss: 6.3920 - val_binary_accuracy: 0.5833\n",
      "Epoch 84/100\n",
      "9600/9600 [==============================] - 0s 19us/sample - loss: 6.3840 - binary_accuracy: 0.5849 - val_loss: 6.3920 - val_binary_accuracy: 0.5833\n",
      "Epoch 85/100\n",
      "9600/9600 [==============================] - 0s 19us/sample - loss: 6.3840 - binary_accuracy: 0.5849 - val_loss: 6.3920 - val_binary_accuracy: 0.5833\n",
      "Epoch 86/100\n",
      "9600/9600 [==============================] - 0s 19us/sample - loss: 6.3840 - binary_accuracy: 0.5849 - val_loss: 6.3920 - val_binary_accuracy: 0.5833\n",
      "Epoch 87/100\n",
      "9600/9600 [==============================] - 0s 19us/sample - loss: 6.3840 - binary_accuracy: 0.5849 - val_loss: 6.3920 - val_binary_accuracy: 0.5833\n",
      "Epoch 88/100\n",
      "9600/9600 [==============================] - 0s 19us/sample - loss: 6.3840 - binary_accuracy: 0.5849 - val_loss: 6.3920 - val_binary_accuracy: 0.5833\n",
      "Epoch 89/100\n",
      "9600/9600 [==============================] - 0s 20us/sample - loss: 6.3840 - binary_accuracy: 0.5849 - val_loss: 6.3920 - val_binary_accuracy: 0.5833\n",
      "Epoch 90/100\n",
      "9600/9600 [==============================] - 0s 19us/sample - loss: 6.3840 - binary_accuracy: 0.5849 - val_loss: 6.3920 - val_binary_accuracy: 0.5833\n",
      "Epoch 91/100\n",
      "9600/9600 [==============================] - 0s 19us/sample - loss: 6.3840 - binary_accuracy: 0.5849 - val_loss: 6.3920 - val_binary_accuracy: 0.5833\n",
      "Epoch 92/100\n",
      "9600/9600 [==============================] - 0s 20us/sample - loss: 6.3840 - binary_accuracy: 0.5849 - val_loss: 6.3920 - val_binary_accuracy: 0.5833\n",
      "Epoch 93/100\n",
      "9600/9600 [==============================] - 0s 19us/sample - loss: 6.3840 - binary_accuracy: 0.5849 - val_loss: 6.3920 - val_binary_accuracy: 0.5833\n",
      "Epoch 94/100\n",
      "9600/9600 [==============================] - 0s 21us/sample - loss: 6.3840 - binary_accuracy: 0.5849 - val_loss: 6.3920 - val_binary_accuracy: 0.5833\n",
      "Epoch 95/100\n",
      "9600/9600 [==============================] - 0s 19us/sample - loss: 6.3840 - binary_accuracy: 0.5849 - val_loss: 6.3920 - val_binary_accuracy: 0.5833\n",
      "Epoch 96/100\n",
      "9600/9600 [==============================] - 0s 19us/sample - loss: 6.3840 - binary_accuracy: 0.5849 - val_loss: 6.3920 - val_binary_accuracy: 0.5833\n",
      "Epoch 97/100\n",
      "9600/9600 [==============================] - 0s 19us/sample - loss: 6.3840 - binary_accuracy: 0.5849 - val_loss: 6.3920 - val_binary_accuracy: 0.5833\n",
      "Epoch 98/100\n",
      "9600/9600 [==============================] - 0s 21us/sample - loss: 6.3840 - binary_accuracy: 0.5849 - val_loss: 6.3920 - val_binary_accuracy: 0.5833\n",
      "Epoch 99/100\n",
      "9600/9600 [==============================] - 0s 20us/sample - loss: 6.3840 - binary_accuracy: 0.5849 - val_loss: 6.3920 - val_binary_accuracy: 0.5833\n",
      "Epoch 100/100\n",
      "9600/9600 [==============================] - 0s 19us/sample - loss: 6.3840 - binary_accuracy: 0.5849 - val_loss: 6.3920 - val_binary_accuracy: 0.5833\n",
      "{'batch_size': 32, 'epochs': 100, 'steps': None, 'samples': 9600, 'verbose': 1, 'do_validation': True, 'metrics': ['loss', 'binary_accuracy', 'val_loss', 'val_binary_accuracy']}\n"
     ]
    },
    {
     "data": {
      "image/png": "[encoded data removed]",
      "text/plain": [
       "<Figure size 640x480 with 1 Axes>"
      ]
     },
     "metadata": {},
     "output_type": "display_data"
    },
    {
     "data": {
      "image/png": "[encoded data removed]",
      "text/plain": [
       "<Figure size 640x480 with 1 Axes>"
      ]
     },
     "metadata": {},
     "output_type": "display_data"
    },
    {
     "name": "stdout",
     "output_type": "stream",
     "text": [
      "Model results(Train/Test):\n",
      "Loss:               6.37 / 6.57\n",
      "Binary accuracy:    0.58 / 0.57\n"
     ]
    }
   ],
   "source": [
    "buy_model = supervised_discrete_model(item_count_buy)\n",
    "train_knapsack('buy', buy_model, train_x, train_y, test_x, test_y)"
   ]
  },
  {
   "cell_type": "code",
   "execution_count": 23,
   "metadata": {},
   "outputs": [],
   "source": [
    "tf.compat.v1.disable_eager_execution()\n",
    "item_count_sell = 10\n",
    "train_x, train_y = create_knapsack_dataset('sell', 12000, item_count_sell)\n",
    "test_x, test_y = create_knapsack_dataset('sell', 200, item_count_sell)"
   ]
  },
  {
   "cell_type": "code",
   "execution_count": 24,
   "metadata": {},
   "outputs": [
    {
     "name": "stdout",
     "output_type": "stream",
     "text": [
      "Train on 9600 samples, validate on 2400 samples\n",
      "Epoch 1/100\n",
      "9600/9600 [==============================] - 0s 47us/sample - loss: 6.9122 - binary_accuracy: 0.5507 - val_loss: 6.9317 - val_binary_accuracy: 0.5486\n",
      "Epoch 2/100\n",
      "4288/9600 [============>.................] - ETA: 0s - loss: 6.4059 - binary_accuracy: 0.5835"
     ]
    },
    {
     "name": "stderr",
     "output_type": "stream",
     "text": [
      "d:\\Anaconda\\envs\\ai\\lib\\site-packages\\keras\\engine\\training_v1.py:2057: UserWarning: `Model.state_updates` will be removed in a future version. This property should not be used in TensorFlow 2.0, as `updates` are applied automatically.\n",
      "  updates = self.state_updates\n"
     ]
    },
    {
     "name": "stdout",
     "output_type": "stream",
     "text": [
      "9600/9600 [==============================] - 0s 33us/sample - loss: 6.3809 - binary_accuracy: 0.5851 - val_loss: 6.3296 - val_binary_accuracy: 0.5873\n",
      "Epoch 3/100\n",
      "9600/9600 [==============================] - 0s 46us/sample - loss: 5.8799 - binary_accuracy: 0.6175 - val_loss: 5.6356 - val_binary_accuracy: 0.6320\n",
      "Epoch 4/100\n",
      "9600/9600 [==============================] - 0s 34us/sample - loss: 5.6869 - binary_accuracy: 0.6300 - val_loss: 5.6356 - val_binary_accuracy: 0.6320\n",
      "Epoch 5/100\n",
      "9600/9600 [==============================] - 0s 25us/sample - loss: 5.6869 - binary_accuracy: 0.6300 - val_loss: 5.6356 - val_binary_accuracy: 0.6320\n",
      "Epoch 6/100\n",
      "9600/9600 [==============================] - 0s 25us/sample - loss: 5.6869 - binary_accuracy: 0.6300 - val_loss: 5.6356 - val_binary_accuracy: 0.6320\n",
      "Epoch 7/100\n",
      "9600/9600 [==============================] - 0s 21us/sample - loss: 5.6869 - binary_accuracy: 0.6300 - val_loss: 5.6356 - val_binary_accuracy: 0.6320\n",
      "Epoch 8/100\n",
      "9600/9600 [==============================] - 0s 22us/sample - loss: 5.6869 - binary_accuracy: 0.6300 - val_loss: 5.6356 - val_binary_accuracy: 0.6320\n",
      "Epoch 9/100\n",
      "9600/9600 [==============================] - 0s 21us/sample - loss: 5.6869 - binary_accuracy: 0.6300 - val_loss: 5.6356 - val_binary_accuracy: 0.6320\n",
      "Epoch 10/100\n",
      "9600/9600 [==============================] - 0s 21us/sample - loss: 5.6869 - binary_accuracy: 0.6300 - val_loss: 5.6356 - val_binary_accuracy: 0.6320\n",
      "Epoch 11/100\n",
      "9600/9600 [==============================] - 0s 24us/sample - loss: 5.6869 - binary_accuracy: 0.6300 - val_loss: 5.6356 - val_binary_accuracy: 0.6320\n",
      "Epoch 12/100\n",
      "9600/9600 [==============================] - 0s 29us/sample - loss: 5.6869 - binary_accuracy: 0.6300 - val_loss: 5.6356 - val_binary_accuracy: 0.6320\n",
      "Epoch 13/100\n",
      "9600/9600 [==============================] - 0s 25us/sample - loss: 5.6869 - binary_accuracy: 0.6300 - val_loss: 5.6356 - val_binary_accuracy: 0.6320\n",
      "Epoch 14/100\n",
      "9600/9600 [==============================] - 0s 24us/sample - loss: 5.6869 - binary_accuracy: 0.6300 - val_loss: 5.6356 - val_binary_accuracy: 0.6320\n",
      "Epoch 15/100\n",
      "9600/9600 [==============================] - 0s 21us/sample - loss: 5.6869 - binary_accuracy: 0.6300 - val_loss: 5.6356 - val_binary_accuracy: 0.6320\n",
      "Epoch 16/100\n",
      "9600/9600 [==============================] - 0s 23us/sample - loss: 5.6869 - binary_accuracy: 0.6300 - val_loss: 5.6356 - val_binary_accuracy: 0.6320\n",
      "Epoch 17/100\n",
      "9600/9600 [==============================] - 0s 21us/sample - loss: 5.6869 - binary_accuracy: 0.6300 - val_loss: 5.6356 - val_binary_accuracy: 0.6320\n",
      "Epoch 18/100\n",
      "9600/9600 [==============================] - 0s 20us/sample - loss: 5.6869 - binary_accuracy: 0.6300 - val_loss: 5.6356 - val_binary_accuracy: 0.6320\n",
      "Epoch 19/100\n",
      "9600/9600 [==============================] - 0s 23us/sample - loss: 5.6869 - binary_accuracy: 0.6300 - val_loss: 5.6356 - val_binary_accuracy: 0.6320\n",
      "Epoch 20/100\n",
      "9600/9600 [==============================] - 0s 21us/sample - loss: 5.6869 - binary_accuracy: 0.6300 - val_loss: 5.6356 - val_binary_accuracy: 0.6320\n",
      "Epoch 21/100\n",
      "9600/9600 [==============================] - 0s 20us/sample - loss: 5.6869 - binary_accuracy: 0.6300 - val_loss: 5.6356 - val_binary_accuracy: 0.6320\n",
      "Epoch 22/100\n",
      "9600/9600 [==============================] - 0s 23us/sample - loss: 5.6869 - binary_accuracy: 0.6300 - val_loss: 5.6356 - val_binary_accuracy: 0.6320\n",
      "Epoch 23/100\n",
      "9600/9600 [==============================] - 0s 22us/sample - loss: 5.6869 - binary_accuracy: 0.6300 - val_loss: 5.6356 - val_binary_accuracy: 0.6320\n",
      "Epoch 24/100\n",
      "9600/9600 [==============================] - 0s 21us/sample - loss: 5.6869 - binary_accuracy: 0.6300 - val_loss: 5.6356 - val_binary_accuracy: 0.6320\n",
      "Epoch 25/100\n",
      "9600/9600 [==============================] - 0s 21us/sample - loss: 5.6869 - binary_accuracy: 0.6300 - val_loss: 5.6356 - val_binary_accuracy: 0.6320\n",
      "Epoch 26/100\n",
      "9600/9600 [==============================] - 0s 20us/sample - loss: 5.6869 - binary_accuracy: 0.6300 - val_loss: 5.6356 - val_binary_accuracy: 0.6320\n",
      "Epoch 27/100\n",
      "9600/9600 [==============================] - 0s 24us/sample - loss: 5.6869 - binary_accuracy: 0.6300 - val_loss: 5.6356 - val_binary_accuracy: 0.6320\n",
      "Epoch 28/100\n",
      "9600/9600 [==============================] - 0s 42us/sample - loss: 5.6869 - binary_accuracy: 0.6300 - val_loss: 5.6356 - val_binary_accuracy: 0.6320\n",
      "Epoch 29/100\n",
      "9600/9600 [==============================] - 0s 35us/sample - loss: 5.6869 - binary_accuracy: 0.6300 - val_loss: 5.6356 - val_binary_accuracy: 0.6320\n",
      "Epoch 30/100\n",
      "9600/9600 [==============================] - 0s 27us/sample - loss: 5.6869 - binary_accuracy: 0.6300 - val_loss: 5.6356 - val_binary_accuracy: 0.6320\n",
      "Epoch 31/100\n",
      "9600/9600 [==============================] - 0s 23us/sample - loss: 5.6869 - binary_accuracy: 0.6300 - val_loss: 5.6356 - val_binary_accuracy: 0.6320\n",
      "Epoch 32/100\n",
      "9600/9600 [==============================] - 0s 33us/sample - loss: 5.6869 - binary_accuracy: 0.6300 - val_loss: 5.6356 - val_binary_accuracy: 0.6320\n",
      "Epoch 33/100\n",
      "9600/9600 [==============================] - 0s 24us/sample - loss: 5.6869 - binary_accuracy: 0.6300 - val_loss: 5.6356 - val_binary_accuracy: 0.6320\n",
      "Epoch 34/100\n",
      "9600/9600 [==============================] - 0s 23us/sample - loss: 5.6869 - binary_accuracy: 0.6300 - val_loss: 5.6356 - val_binary_accuracy: 0.6320\n",
      "Epoch 35/100\n",
      "9600/9600 [==============================] - 0s 20us/sample - loss: 5.6869 - binary_accuracy: 0.6300 - val_loss: 5.6356 - val_binary_accuracy: 0.6320\n",
      "Epoch 36/100\n",
      "9600/9600 [==============================] - 0s 22us/sample - loss: 5.6869 - binary_accuracy: 0.6300 - val_loss: 5.6356 - val_binary_accuracy: 0.6320\n",
      "Epoch 37/100\n",
      "9600/9600 [==============================] - 0s 20us/sample - loss: 5.6869 - binary_accuracy: 0.6300 - val_loss: 5.6356 - val_binary_accuracy: 0.6320\n",
      "Epoch 38/100\n",
      "9600/9600 [==============================] - 0s 20us/sample - loss: 5.6869 - binary_accuracy: 0.6300 - val_loss: 5.6356 - val_binary_accuracy: 0.6320\n",
      "Epoch 39/100\n",
      "9600/9600 [==============================] - 0s 21us/sample - loss: 5.6869 - binary_accuracy: 0.6300 - val_loss: 5.6356 - val_binary_accuracy: 0.6320\n",
      "Epoch 40/100\n",
      "9600/9600 [==============================] - 0s 19us/sample - loss: 5.6869 - binary_accuracy: 0.6300 - val_loss: 5.6356 - val_binary_accuracy: 0.6320\n",
      "Epoch 41/100\n",
      "9600/9600 [==============================] - 0s 20us/sample - loss: 5.6869 - binary_accuracy: 0.6300 - val_loss: 5.6356 - val_binary_accuracy: 0.6320\n",
      "Epoch 42/100\n",
      "9600/9600 [==============================] - 0s 20us/sample - loss: 5.6869 - binary_accuracy: 0.6300 - val_loss: 5.6356 - val_binary_accuracy: 0.6320\n",
      "Epoch 43/100\n",
      "9600/9600 [==============================] - 0s 20us/sample - loss: 5.6869 - binary_accuracy: 0.6300 - val_loss: 5.6356 - val_binary_accuracy: 0.6320\n",
      "Epoch 44/100\n",
      "9600/9600 [==============================] - 0s 20us/sample - loss: 5.6869 - binary_accuracy: 0.6300 - val_loss: 5.6356 - val_binary_accuracy: 0.6320\n",
      "Epoch 45/100\n",
      "9600/9600 [==============================] - 0s 22us/sample - loss: 5.6869 - binary_accuracy: 0.6300 - val_loss: 5.6356 - val_binary_accuracy: 0.6320\n",
      "Epoch 46/100\n",
      "9600/9600 [==============================] - 0s 21us/sample - loss: 5.6869 - binary_accuracy: 0.6300 - val_loss: 5.6356 - val_binary_accuracy: 0.6320\n",
      "Epoch 47/100\n",
      "9600/9600 [==============================] - 0s 20us/sample - loss: 5.6869 - binary_accuracy: 0.6300 - val_loss: 5.6356 - val_binary_accuracy: 0.6320\n",
      "Epoch 48/100\n",
      "9600/9600 [==============================] - 0s 21us/sample - loss: 5.6869 - binary_accuracy: 0.6300 - val_loss: 5.6356 - val_binary_accuracy: 0.6320\n",
      "Epoch 49/100\n",
      "9600/9600 [==============================] - 0s 22us/sample - loss: 5.6869 - binary_accuracy: 0.6300 - val_loss: 5.6356 - val_binary_accuracy: 0.6320\n",
      "Epoch 50/100\n",
      "9600/9600 [==============================] - 0s 19us/sample - loss: 5.6869 - binary_accuracy: 0.6300 - val_loss: 5.6356 - val_binary_accuracy: 0.6320\n",
      "Epoch 51/100\n",
      "9600/9600 [==============================] - 0s 22us/sample - loss: 5.6869 - binary_accuracy: 0.6300 - val_loss: 5.6356 - val_binary_accuracy: 0.6320\n",
      "Epoch 52/100\n",
      "9600/9600 [==============================] - 0s 22us/sample - loss: 5.6869 - binary_accuracy: 0.6300 - val_loss: 5.6356 - val_binary_accuracy: 0.6320\n",
      "Epoch 53/100\n",
      "9600/9600 [==============================] - 0s 25us/sample - loss: 5.6869 - binary_accuracy: 0.6300 - val_loss: 5.6356 - val_binary_accuracy: 0.6320\n",
      "Epoch 54/100\n",
      "9600/9600 [==============================] - 0s 21us/sample - loss: 5.6869 - binary_accuracy: 0.6300 - val_loss: 5.6356 - val_binary_accuracy: 0.6320\n",
      "Epoch 55/100\n",
      "9600/9600 [==============================] - 0s 20us/sample - loss: 5.6869 - binary_accuracy: 0.6300 - val_loss: 5.6356 - val_binary_accuracy: 0.6320\n",
      "Epoch 56/100\n",
      "9600/9600 [==============================] - 0s 20us/sample - loss: 5.6869 - binary_accuracy: 0.6300 - val_loss: 5.6356 - val_binary_accuracy: 0.6320\n",
      "Epoch 57/100\n",
      "9600/9600 [==============================] - 0s 20us/sample - loss: 5.6869 - binary_accuracy: 0.6300 - val_loss: 5.6356 - val_binary_accuracy: 0.6320\n",
      "Epoch 58/100\n",
      "9600/9600 [==============================] - 0s 21us/sample - loss: 5.6869 - binary_accuracy: 0.6300 - val_loss: 5.6356 - val_binary_accuracy: 0.6320\n",
      "Epoch 59/100\n",
      "9600/9600 [==============================] - 0s 21us/sample - loss: 5.6869 - binary_accuracy: 0.6300 - val_loss: 5.6356 - val_binary_accuracy: 0.6320\n",
      "Epoch 60/100\n",
      "9600/9600 [==============================] - 0s 21us/sample - loss: 5.6869 - binary_accuracy: 0.6300 - val_loss: 5.6356 - val_binary_accuracy: 0.6320\n",
      "Epoch 61/100\n",
      "9600/9600 [==============================] - 0s 42us/sample - loss: 5.6869 - binary_accuracy: 0.6300 - val_loss: 5.6356 - val_binary_accuracy: 0.6320\n",
      "Epoch 62/100\n",
      "9600/9600 [==============================] - 0s 38us/sample - loss: 5.6869 - binary_accuracy: 0.6300 - val_loss: 5.6356 - val_binary_accuracy: 0.6320\n",
      "Epoch 63/100\n",
      "9600/9600 [==============================] - 0s 27us/sample - loss: 5.6869 - binary_accuracy: 0.6300 - val_loss: 5.6356 - val_binary_accuracy: 0.6320\n",
      "Epoch 64/100\n",
      "9600/9600 [==============================] - 0s 27us/sample - loss: 5.6869 - binary_accuracy: 0.6300 - val_loss: 5.6356 - val_binary_accuracy: 0.6320\n",
      "Epoch 65/100\n",
      "9600/9600 [==============================] - 0s 22us/sample - loss: 5.6869 - binary_accuracy: 0.6300 - val_loss: 5.6356 - val_binary_accuracy: 0.6320\n",
      "Epoch 66/100\n",
      "9600/9600 [==============================] - 0s 34us/sample - loss: 5.6869 - binary_accuracy: 0.6300 - val_loss: 5.6356 - val_binary_accuracy: 0.6320\n",
      "Epoch 67/100\n",
      "9600/9600 [==============================] - 0s 39us/sample - loss: 5.6869 - binary_accuracy: 0.6300 - val_loss: 5.6356 - val_binary_accuracy: 0.6320\n",
      "Epoch 68/100\n",
      "9600/9600 [==============================] - 0s 29us/sample - loss: 5.6869 - binary_accuracy: 0.6300 - val_loss: 5.6356 - val_binary_accuracy: 0.6320\n",
      "Epoch 69/100\n",
      "9600/9600 [==============================] - 0s 31us/sample - loss: 5.6869 - binary_accuracy: 0.6300 - val_loss: 5.6356 - val_binary_accuracy: 0.6320\n",
      "Epoch 70/100\n",
      "9600/9600 [==============================] - 0s 29us/sample - loss: 5.6869 - binary_accuracy: 0.6300 - val_loss: 5.6356 - val_binary_accuracy: 0.6320\n",
      "Epoch 71/100\n",
      "9600/9600 [==============================] - 0s 27us/sample - loss: 5.6869 - binary_accuracy: 0.6300 - val_loss: 5.6356 - val_binary_accuracy: 0.6320\n",
      "Epoch 72/100\n",
      "9600/9600 [==============================] - 0s 27us/sample - loss: 5.6869 - binary_accuracy: 0.6300 - val_loss: 5.6356 - val_binary_accuracy: 0.6320\n",
      "Epoch 73/100\n",
      "9600/9600 [==============================] - 0s 30us/sample - loss: 5.6869 - binary_accuracy: 0.6300 - val_loss: 5.6356 - val_binary_accuracy: 0.6320\n",
      "Epoch 74/100\n",
      "9600/9600 [==============================] - 0s 22us/sample - loss: 5.6869 - binary_accuracy: 0.6300 - val_loss: 5.6356 - val_binary_accuracy: 0.6320\n",
      "Epoch 75/100\n",
      "9600/9600 [==============================] - 0s 36us/sample - loss: 5.6869 - binary_accuracy: 0.6300 - val_loss: 5.6356 - val_binary_accuracy: 0.6320\n",
      "Epoch 76/100\n",
      "9600/9600 [==============================] - 0s 35us/sample - loss: 5.6869 - binary_accuracy: 0.6300 - val_loss: 5.6356 - val_binary_accuracy: 0.6320\n",
      "Epoch 77/100\n",
      "9600/9600 [==============================] - 0s 22us/sample - loss: 5.6869 - binary_accuracy: 0.6300 - val_loss: 5.6356 - val_binary_accuracy: 0.6320\n",
      "Epoch 78/100\n",
      "9600/9600 [==============================] - 0s 25us/sample - loss: 5.6869 - binary_accuracy: 0.6300 - val_loss: 5.6356 - val_binary_accuracy: 0.6320\n",
      "Epoch 79/100\n",
      "9600/9600 [==============================] - 0s 29us/sample - loss: 5.6869 - binary_accuracy: 0.6300 - val_loss: 5.6356 - val_binary_accuracy: 0.6320\n",
      "Epoch 80/100\n",
      "9600/9600 [==============================] - 0s 30us/sample - loss: 5.6869 - binary_accuracy: 0.6300 - val_loss: 5.6356 - val_binary_accuracy: 0.6320\n",
      "Epoch 81/100\n",
      "9600/9600 [==============================] - 0s 20us/sample - loss: 5.6869 - binary_accuracy: 0.6300 - val_loss: 5.6356 - val_binary_accuracy: 0.6320\n",
      "Epoch 82/100\n",
      "9600/9600 [==============================] - 0s 29us/sample - loss: 5.6869 - binary_accuracy: 0.6300 - val_loss: 5.6356 - val_binary_accuracy: 0.6320\n",
      "Epoch 83/100\n",
      "9600/9600 [==============================] - 0s 20us/sample - loss: 5.6869 - binary_accuracy: 0.6300 - val_loss: 5.6356 - val_binary_accuracy: 0.6320\n",
      "Epoch 84/100\n",
      "9600/9600 [==============================] - 0s 38us/sample - loss: 5.6869 - binary_accuracy: 0.6300 - val_loss: 5.6356 - val_binary_accuracy: 0.6320\n",
      "Epoch 85/100\n",
      "9600/9600 [==============================] - 0s 26us/sample - loss: 5.6869 - binary_accuracy: 0.6300 - val_loss: 5.6356 - val_binary_accuracy: 0.6320\n",
      "Epoch 86/100\n",
      "9600/9600 [==============================] - 0s 22us/sample - loss: 5.6869 - binary_accuracy: 0.6300 - val_loss: 5.6356 - val_binary_accuracy: 0.6320\n",
      "Epoch 87/100\n",
      "9600/9600 [==============================] - 0s 37us/sample - loss: 5.6869 - binary_accuracy: 0.6300 - val_loss: 5.6356 - val_binary_accuracy: 0.6320\n",
      "Epoch 88/100\n",
      "9600/9600 [==============================] - 0s 41us/sample - loss: 5.6869 - binary_accuracy: 0.6300 - val_loss: 5.6356 - val_binary_accuracy: 0.6320\n",
      "Epoch 89/100\n",
      "9600/9600 [==============================] - 0s 45us/sample - loss: 5.6869 - binary_accuracy: 0.6300 - val_loss: 5.6356 - val_binary_accuracy: 0.6320\n",
      "Epoch 90/100\n",
      "9600/9600 [==============================] - 0s 35us/sample - loss: 5.6869 - binary_accuracy: 0.6300 - val_loss: 5.6356 - val_binary_accuracy: 0.6320\n",
      "Epoch 91/100\n",
      "9600/9600 [==============================] - 0s 23us/sample - loss: 5.6869 - binary_accuracy: 0.6300 - val_loss: 5.6356 - val_binary_accuracy: 0.6320\n",
      "Epoch 92/100\n",
      "9600/9600 [==============================] - 0s 24us/sample - loss: 5.6869 - binary_accuracy: 0.6300 - val_loss: 5.6356 - val_binary_accuracy: 0.6320\n",
      "Epoch 93/100\n",
      "9600/9600 [==============================] - 0s 31us/sample - loss: 5.6869 - binary_accuracy: 0.6300 - val_loss: 5.6356 - val_binary_accuracy: 0.6320\n",
      "Epoch 94/100\n",
      "9600/9600 [==============================] - 0s 21us/sample - loss: 5.6869 - binary_accuracy: 0.6300 - val_loss: 5.6356 - val_binary_accuracy: 0.6320\n",
      "Epoch 95/100\n",
      "9600/9600 [==============================] - 0s 22us/sample - loss: 5.6869 - binary_accuracy: 0.6300 - val_loss: 5.6356 - val_binary_accuracy: 0.6320\n",
      "Epoch 96/100\n",
      "9600/9600 [==============================] - 0s 21us/sample - loss: 5.6869 - binary_accuracy: 0.6300 - val_loss: 5.6356 - val_binary_accuracy: 0.6320\n",
      "Epoch 97/100\n",
      "9600/9600 [==============================] - 0s 22us/sample - loss: 5.6869 - binary_accuracy: 0.6300 - val_loss: 5.6356 - val_binary_accuracy: 0.6320\n",
      "Epoch 98/100\n",
      "9600/9600 [==============================] - 0s 23us/sample - loss: 5.6869 - binary_accuracy: 0.6300 - val_loss: 5.6356 - val_binary_accuracy: 0.6320\n",
      "Epoch 99/100\n",
      "9600/9600 [==============================] - 0s 29us/sample - loss: 5.6869 - binary_accuracy: 0.6300 - val_loss: 5.6356 - val_binary_accuracy: 0.6320\n",
      "Epoch 100/100\n",
      "9600/9600 [==============================] - 0s 23us/sample - loss: 5.6869 - binary_accuracy: 0.6300 - val_loss: 5.6356 - val_binary_accuracy: 0.6320\n",
      "{'batch_size': 32, 'epochs': 100, 'steps': None, 'samples': 9600, 'verbose': 1, 'do_validation': True, 'metrics': ['loss', 'binary_accuracy', 'val_loss', 'val_binary_accuracy']}\n"
     ]
    },
    {
     "data": {
      "image/png": "[encoded data removed]",
      "text/plain": [
       "<Figure size 640x480 with 1 Axes>"
      ]
     },
     "metadata": {},
     "output_type": "display_data"
    },
    {
     "data": {
      "image/png": "[encoded data removed]",
      "text/plain": [
       "<Figure size 640x480 with 1 Axes>"
      ]
     },
     "metadata": {},
     "output_type": "display_data"
    },
    {
     "name": "stdout",
     "output_type": "stream",
     "text": [
      "Model results(Train/Test):\n",
      "Loss:               6.35 / 6.37\n",
      "Binary accuracy:    0.59 / 0.58\n"
     ]
    }
   ],
   "source": [
    "sell_model = supervised_discrete_model(item_count_sell)\n",
    "train_knapsack('sell', sell_model, train_x, train_y, test_x, test_y)"
   ]
  },
  {
   "cell_type": "code",
   "execution_count": 83,
   "metadata": {},
   "outputs": [
    {
     "name": "stdout",
     "output_type": "stream",
     "text": [
      "[[1. 1. 0. 0. 1. 1. 1. 0. 1. 1.]]\n"
     ]
    }
   ],
   "source": [
    "val_x, val_y= create_knapsack_dataset('buy', 1, item_count = 10)\n",
    "buy_model = load_model('buy_supervised_discrete_rnn.h5', custom_objects={\n",
    "                        'space_violation':metric_space_violation(tf.keras.Input((10), name=\"Weights\"), tf.keras.Input((1),)),\n",
    "                        'overpricing': metric_overprice(tf.keras.Input((10), name=\"Weights\")),\n",
    "                        'pick_count': metric_pick_count()}\n",
    "                      )\n",
    "val_result = buy_model.predict(val_x)\n",
    "print(val_result)"
   ]
  },
  {
   "cell_type": "code",
   "execution_count": 84,
   "metadata": {},
   "outputs": [
    {
     "name": "stdout",
     "output_type": "stream",
     "text": [
      "[[0. 0. 1. 1. 0. 1. 1. 1. 1. 1.]]\n"
     ]
    }
   ],
   "source": [
    "val_x, val_y= create_knapsack_dataset('sell', 1, item_count = 10)\n",
    "sell_model = load_model('sell_supervised_discrete_rnn.h5', custom_objects={\n",
    "                        'space_violation':metric_space_violation(tf.keras.Input((10), name=\"Weights\"), tf.keras.Input((1),)),\n",
    "                        'overpricing': metric_overprice(tf.keras.Input((10), name=\"Weights\")),\n",
    "                        'pick_count': metric_pick_count()}\n",
    "                      )\n",
    "val_result = sell_model.predict(val_x)\n",
    "print(val_result)"
   ]
  },
  {
   "cell_type": "code",
   "execution_count": 2,
   "metadata": {},
   "outputs": [],
   "source": [
    "orders_file = 'data/orders.xlsx'\n",
    "workbook = openpyxl.load_workbook(orders_file)"
   ]
  },
  {
   "cell_type": "code",
   "execution_count": 3,
   "metadata": {},
   "outputs": [
    {
     "name": "stdout",
     "output_type": "stream",
     "text": [
      "['Microsofts', 'Netflix']\n"
     ]
    },
    {
     "name": "stderr",
     "output_type": "stream",
     "text": [
      "C:\\Users\\Thumbby\\AppData\\Local\\Temp\\ipykernel_12444\\2214667223.py:1: DeprecationWarning: Call to deprecated function get_sheet_names (Use wb.sheetnames).\n",
      "  sheetnames= workbook.get_sheet_names()\n"
     ]
    }
   ],
   "source": [
    "sheetnames= workbook.get_sheet_names()\n",
    "print(sheetnames)"
   ]
  },
  {
   "cell_type": "code",
   "execution_count": 4,
   "metadata": {},
   "outputs": [
    {
     "name": "stdout",
     "output_type": "stream",
     "text": [
      "Microsofts\n",
      "Netflix\n"
     ]
    }
   ],
   "source": [
    "sheetMSFT = workbook.worksheets[0]\n",
    "sheetNFLX = workbook.worksheets[1]\n",
    "sheetMSFTNAME = sheetMSFT.title\n",
    "sheetNFLXNAME = sheetNFLX.title\n",
    "print(sheetMSFTNAME)\n",
    "print(sheetNFLXNAME)"
   ]
  },
  {
   "cell_type": "code",
   "execution_count": 5,
   "metadata": {},
   "outputs": [
    {
     "name": "stdout",
     "output_type": "stream",
     "text": [
      "defaultdict(<class 'list'>, {'Microsofts': [['NASD', 183.65, 500], ['NASD', 183.64, 200], ['NASD', 183.63, 500], ['NASD', 183.92, 1450], ['NASD', 183.81, 1000], ['BATS', 183.65, 30], ['BATS', 183.64, 450], ['BATS', 183.73, 175], ['BATS', 183.62, 400], ['BATS', 183.71, 1050]], 'Netflix': [['NASD', 366.97, 100], ['NASD', 366.96, 200], ['NASD', 366.95, 225], ['NASD', 366.94, 450], ['NASD', 366.93, 300], ['BATS', 366.95, 110], ['BATS', 366.95, 200], ['BATS', 366.94, 250], ['BATS', 366.93, 375], ['BATS', 366.92, 125]]})\n",
      "defaultdict(<class 'list'>, {'Microsofts': [['NASD', 183.91, 100], ['NASD', 183.97, 300], ['NASD', 183.93, 1075], ['NASD', 183.94, 800], ['NASD', 183.85, 200], ['BATS', 183.91, 500], ['BATS', 183.94, 400], ['BATS', 183.95, 1125], ['BATS', 183.96, 675], ['BATS', 183.78, 180]], 'Netflix': [['NASD', 367.23, 600], ['NASD', 367.24, 575], ['NASD', 367.25, 425], ['NASD', 367.26, 325], ['NASD', 367.27, 250], ['BATS', 367.23, 250], ['BATS', 367.24, 300], ['BATS', 367.25, 100], ['BATS', 367.35, 100], ['BATS', 367.27, 550]]})\n"
     ]
    }
   ],
   "source": [
    "# Get the dictionary of price-to-qunatity\n",
    "excelbids = defaultdict(list)\n",
    "excelasks = defaultdict(list)\n",
    "for i in range(3, 8):\n",
    "\tfor j in range(1, 2):\n",
    "\t\texcelbids[sheetMSFTNAME].append(['NASD',sheetMSFT.cell(i, j).value, sheetMSFT.cell(i, j+1).value])\n",
    "\tfor j in range(3, 4):\n",
    "\t\texcelasks[sheetMSFTNAME].append(['NASD',sheetMSFT.cell(i, j).value, sheetMSFT.cell(i, j+1).value])\n",
    "\n",
    "for i in range (10, 15):\n",
    "\tfor j in range(1, 2):\n",
    "\t\texcelbids[sheetMSFTNAME].append(['BATS',sheetMSFT.cell(i, j).value, sheetMSFT.cell(i, j+1).value])\n",
    "\tfor j in range(3, 4):\n",
    "\t\texcelasks[sheetMSFTNAME].append(['BATS',sheetMSFT.cell(i, j).value, sheetMSFT.cell(i, j+1).value])\n",
    "\n",
    "for i in range(3, 8):\n",
    "\tfor j in range(1, 2):\n",
    "\t\texcelbids[sheetNFLXNAME].append(['NASD',sheetNFLX.cell(i, j).value, sheetNFLX.cell(i, j+1).value])\n",
    "\tfor j in range(3, 4):\n",
    "\t\texcelasks[sheetNFLXNAME].append(['NASD',sheetNFLX.cell(i, j).value, sheetNFLX.cell(i, j+1).value])\n",
    "\n",
    "for i in range (10, 15):\n",
    "\tfor j in range(1, 2):\n",
    "\t\texcelbids[sheetNFLXNAME].append(['BATS',sheetNFLX.cell(i, j).value, sheetNFLX.cell(i, j+1).value])\n",
    "\tfor j in range(3, 4):\n",
    "\t\texcelasks[sheetNFLXNAME].append(['BATS',sheetNFLX.cell(i, j).value, sheetNFLX.cell(i, j+1).value])\n",
    "\t\t\n",
    "print(excelbids)\n",
    "print(excelasks)"
   ]
  },
  {
   "cell_type": "code",
   "execution_count": 6,
   "metadata": {},
   "outputs": [],
   "source": [
    "def smart_order_router(side, symbol, qty, order_type='market', price=None):\n",
    "    needed_qty = qty\n",
    "    route = {}\n",
    "    if side == 'buy':\n",
    "        prices = []\n",
    "        weights = []\n",
    "        shards = excelasks[symbol]\n",
    "        for shard in excelasks[symbol]:\n",
    "            if (shard[1] <= price and order_type == 'limit') or order_type == 'market':\n",
    "                prices.append(shard[1])\n",
    "                weights.append(shard[2])\n",
    "        buy_model = load_model('buy_supervised_discrete_rnn.h5')\n",
    "        inputs = [np.array([np.array(weights)]), np.array([np.array(prices)]), np.array([qty])]\n",
    "        results = buy_model.predict(inputs)[0]\n",
    "        for i in range(0, len(results)):\n",
    "            if results[i] == 1:\n",
    "                if shards[i][0] not in route:\n",
    "                    route[shards[i][0]] = {}\n",
    "                route[shards[i][0]][shards[i][1]] = shards[i][2]\n",
    "                needed_qty = needed_qty - shards[i][2]\n",
    "        order = {'route':route, 'leave_qty':needed_qty}\n",
    "        return order\n",
    "    else:\n",
    "        prices = []\n",
    "        weights = []\n",
    "        shards = excelbids[symbol]\n",
    "        for shard in excelbids[symbol]:\n",
    "            if (shard[1] >= price and order_type == 'limit') or order_type == 'market':\n",
    "                prices.append(shard[1])\n",
    "                weights.append(shard[2])\n",
    "        sell_model = load_model('sell_supervised_discrete_rnn.h5')\n",
    "        inputs = [np.array([np.array(weights)]), np.array([np.array(prices)]), np.array([qty])]\n",
    "        results = sell_model.predict(inputs)[0]\n",
    "        for i in range(0, len(results)):\n",
    "            if results[i] == 1:\n",
    "                if shards[i][0] not in route:\n",
    "                    route[shards[i][0]] = {}\n",
    "                route[shards[i][0]][shards[i][1]] = shards[i][2]\n",
    "                needed_qty = needed_qty - shards[i][2]\n",
    "        order = {'route':route, 'leave_qty':needed_qty}\n",
    "        return order"
   ]
  },
  {
   "cell_type": "code",
   "execution_count": 32,
   "metadata": {},
   "outputs": [
    {
     "name": "stdout",
     "output_type": "stream",
     "text": [
      "This investor want to buy 2917 shared at 197.64 price\n"
     ]
    },
    {
     "data": {
      "text/plain": [
       "{'route': {'NASD': {183.91: 100, 183.97: 300, 183.85: 200},\n",
       "  'BATS': {183.91: 500, 183.94: 400, 183.96: 675, 183.78: 180}},\n",
       " 'leave_qty': 562}"
      ]
     },
     "execution_count": 32,
     "metadata": {},
     "output_type": "execute_result"
    }
   ],
   "source": [
    "qty = random.randint(1000, 5000)\n",
    "limit_price = round(random.uniform(190, 200), 2)\n",
    "print(f'This investor want to buy {qty} shared at {limit_price} price')\n",
    "smart_order_router('buy', 'Microsofts', qty, 'limit', limit_price)"
   ]
  },
  {
   "cell_type": "code",
   "execution_count": 31,
   "metadata": {},
   "outputs": [
    {
     "name": "stdout",
     "output_type": "stream",
     "text": [
      "This investor want to sell 2822 shared at 172.23 price\n"
     ]
    },
    {
     "data": {
      "text/plain": [
       "{'route': {'NASD': {183.91: 100, 183.97: 300, 183.93: 1075, 183.85: 200},\n",
       "  'BATS': {183.91: 500, 183.94: 400, 183.96: 675, 183.78: 180}},\n",
       " 'leave_qty': -608}"
      ]
     },
     "execution_count": 31,
     "metadata": {},
     "output_type": "execute_result"
    }
   ],
   "source": [
    "qty = random.randint(1000, 5000)\n",
    "limit_price = round(random.uniform(170, 180), 2)\n",
    "print(f'This investor want to sell {qty} shared at {limit_price} price')\n",
    "smart_order_router('sell', 'Microsofts', qty, 'limit', limit_price)"
   ]
  },
  {
   "cell_type": "code",
   "execution_count": 10,
   "metadata": {},
   "outputs": [
    {
     "name": "stdout",
     "output_type": "stream",
     "text": [
      "100\n",
      "110\n",
      "120\n",
      "130\n",
      "140\n",
      "150\n",
      "160\n",
      "170\n",
      "180\n",
      "190\n",
      "200\n",
      "210\n",
      "220\n",
      "230\n",
      "240\n",
      "250\n",
      "260\n",
      "270\n",
      "280\n",
      "290\n",
      "300\n",
      "310\n",
      "320\n",
      "330\n",
      "340\n",
      "350\n",
      "360\n",
      "370\n",
      "380\n",
      "390\n",
      "400\n",
      "410\n",
      "420\n",
      "430\n",
      "440\n",
      "450\n",
      "460\n",
      "470\n",
      "480\n",
      "490\n"
     ]
    }
   ],
   "source": [
    "# buy test\n",
    "buy_times = []\n",
    "buy_counts = []\n",
    "step = 0\n",
    "for i in range(100, 500, 10):\n",
    "    print(i)\n",
    "    start_time = time.time()\n",
    "    for order_count in range(0, i):\n",
    "        qty = random.randint(1000, 5000)\n",
    "        limit_price = round(random.uniform(190, 200), 2)\n",
    "        smart_order_router('buy', 'Microsofts', qty, 'limit', limit_price)\n",
    "    end_time = time.time()\n",
    "    buy_times.append(end_time - start_time)\n",
    "    buy_counts.append(i)"
   ]
  },
  {
   "cell_type": "code",
   "execution_count": 33,
   "metadata": {},
   "outputs": [
    {
     "name": "stdout",
     "output_type": "stream",
     "text": [
      "100\n",
      "110\n"
     ]
    },
    {
     "ename": "KeyboardInterrupt",
     "evalue": "",
     "output_type": "error",
     "traceback": [
      "\u001b[1;31m---------------------------------------------------------------------------\u001b[0m",
      "\u001b[1;31mKeyboardInterrupt\u001b[0m                         Traceback (most recent call last)",
      "Cell \u001b[1;32mIn[33], line 11\u001b[0m\n\u001b[0;32m      9\u001b[0m     qty \u001b[39m=\u001b[39m random\u001b[39m.\u001b[39mrandint(\u001b[39m1000\u001b[39m, \u001b[39m5000\u001b[39m)\n\u001b[0;32m     10\u001b[0m     limit_price \u001b[39m=\u001b[39m \u001b[39mround\u001b[39m(random\u001b[39m.\u001b[39muniform(\u001b[39m170\u001b[39m, \u001b[39m180\u001b[39m), \u001b[39m2\u001b[39m)\n\u001b[1;32m---> 11\u001b[0m     smart_order_router(\u001b[39m'\u001b[39;49m\u001b[39msell\u001b[39;49m\u001b[39m'\u001b[39;49m, \u001b[39m'\u001b[39;49m\u001b[39mMicrosofts\u001b[39;49m\u001b[39m'\u001b[39;49m, qty, \u001b[39m'\u001b[39;49m\u001b[39mlimit\u001b[39;49m\u001b[39m'\u001b[39;49m, limit_price)\n\u001b[0;32m     12\u001b[0m end_time \u001b[39m=\u001b[39m time\u001b[39m.\u001b[39mtime()\n\u001b[0;32m     13\u001b[0m sell_times\u001b[39m.\u001b[39mappend(end_time \u001b[39m-\u001b[39m start_time)\n",
      "Cell \u001b[1;32mIn[6], line 31\u001b[0m, in \u001b[0;36msmart_order_router\u001b[1;34m(side, symbol, qty, order_type, price)\u001b[0m\n\u001b[0;32m     29\u001b[0m         prices\u001b[39m.\u001b[39mappend(shard[\u001b[39m1\u001b[39m])\n\u001b[0;32m     30\u001b[0m         weights\u001b[39m.\u001b[39mappend(shard[\u001b[39m2\u001b[39m])\n\u001b[1;32m---> 31\u001b[0m sell_model \u001b[39m=\u001b[39m load_model(\u001b[39m'\u001b[39;49m\u001b[39msell_supervised_discrete_rnn.h5\u001b[39;49m\u001b[39m'\u001b[39;49m)\n\u001b[0;32m     32\u001b[0m inputs \u001b[39m=\u001b[39m [np\u001b[39m.\u001b[39marray([np\u001b[39m.\u001b[39marray(weights)]), np\u001b[39m.\u001b[39marray([np\u001b[39m.\u001b[39marray(prices)]), np\u001b[39m.\u001b[39marray([qty])]\n\u001b[0;32m     33\u001b[0m results \u001b[39m=\u001b[39m sell_model\u001b[39m.\u001b[39mpredict(inputs)[\u001b[39m0\u001b[39m]\n",
      "File \u001b[1;32md:\\Anaconda\\envs\\ai\\lib\\site-packages\\keras\\utils\\traceback_utils.py:64\u001b[0m, in \u001b[0;36mfilter_traceback.<locals>.error_handler\u001b[1;34m(*args, **kwargs)\u001b[0m\n\u001b[0;32m     62\u001b[0m filtered_tb \u001b[39m=\u001b[39m \u001b[39mNone\u001b[39;00m\n\u001b[0;32m     63\u001b[0m \u001b[39mtry\u001b[39;00m:\n\u001b[1;32m---> 64\u001b[0m   \u001b[39mreturn\u001b[39;00m fn(\u001b[39m*\u001b[39margs, \u001b[39m*\u001b[39m\u001b[39m*\u001b[39mkwargs)\n\u001b[0;32m     65\u001b[0m \u001b[39mexcept\u001b[39;00m \u001b[39mException\u001b[39;00m \u001b[39mas\u001b[39;00m e:  \u001b[39m# pylint: disable=broad-except\u001b[39;00m\n\u001b[0;32m     66\u001b[0m   filtered_tb \u001b[39m=\u001b[39m _process_traceback_frames(e\u001b[39m.\u001b[39m__traceback__)\n",
      "File \u001b[1;32md:\\Anaconda\\envs\\ai\\lib\\site-packages\\keras\\saving\\save.py:213\u001b[0m, in \u001b[0;36mload_model\u001b[1;34m(filepath, custom_objects, compile, options)\u001b[0m\n\u001b[0;32m    209\u001b[0m     \u001b[39mif\u001b[39;00m h5py \u001b[39mis\u001b[39;00m \u001b[39mNone\u001b[39;00m:\n\u001b[0;32m    210\u001b[0m       \u001b[39mraise\u001b[39;00m \u001b[39mImportError\u001b[39;00m(\n\u001b[0;32m    211\u001b[0m           \u001b[39m'\u001b[39m\u001b[39mFilepath looks like a hdf5 file but h5py is not available.\u001b[39m\u001b[39m'\u001b[39m\n\u001b[0;32m    212\u001b[0m           \u001b[39mf\u001b[39m\u001b[39m'\u001b[39m\u001b[39m filepath=\u001b[39m\u001b[39m{\u001b[39;00mfilepath_str\u001b[39m}\u001b[39;00m\u001b[39m'\u001b[39m)\n\u001b[1;32m--> 213\u001b[0m     \u001b[39mreturn\u001b[39;00m hdf5_format\u001b[39m.\u001b[39;49mload_model_from_hdf5(\n\u001b[0;32m    214\u001b[0m         tf\u001b[39m.\u001b[39;49mio\u001b[39m.\u001b[39;49mgfile\u001b[39m.\u001b[39;49mGFile(filepath_str, mode\u001b[39m=\u001b[39;49m\u001b[39m'\u001b[39;49m\u001b[39mrb\u001b[39;49m\u001b[39m'\u001b[39;49m), custom_objects,\n\u001b[0;32m    215\u001b[0m         \u001b[39mcompile\u001b[39;49m)\n\u001b[0;32m    216\u001b[0m \u001b[39melif\u001b[39;00m h5py \u001b[39mis\u001b[39;00m \u001b[39mnot\u001b[39;00m \u001b[39mNone\u001b[39;00m \u001b[39mand\u001b[39;00m \u001b[39misinstance\u001b[39m(filepath, h5py\u001b[39m.\u001b[39mFile):\n\u001b[0;32m    217\u001b[0m   \u001b[39mreturn\u001b[39;00m hdf5_format\u001b[39m.\u001b[39mload_model_from_hdf5(filepath, custom_objects,\n\u001b[0;32m    218\u001b[0m                                           \u001b[39mcompile\u001b[39m)\n",
      "File \u001b[1;32md:\\Anaconda\\envs\\ai\\lib\\site-packages\\keras\\saving\\hdf5_format.py:190\u001b[0m, in \u001b[0;36mload_model_from_hdf5\u001b[1;34m(filepath, custom_objects, compile)\u001b[0m\n\u001b[0;32m    186\u001b[0m model \u001b[39m=\u001b[39m model_config_lib\u001b[39m.\u001b[39mmodel_from_config(model_config,\n\u001b[0;32m    187\u001b[0m                                            custom_objects\u001b[39m=\u001b[39mcustom_objects)\n\u001b[0;32m    189\u001b[0m \u001b[39m# set weights\u001b[39;00m\n\u001b[1;32m--> 190\u001b[0m load_weights_from_hdf5_group(f[\u001b[39m'\u001b[39;49m\u001b[39mmodel_weights\u001b[39;49m\u001b[39m'\u001b[39;49m], model)\n\u001b[0;32m    192\u001b[0m \u001b[39mif\u001b[39;00m \u001b[39mcompile\u001b[39m:\n\u001b[0;32m    193\u001b[0m   \u001b[39m# instantiate optimizer\u001b[39;00m\n\u001b[0;32m    194\u001b[0m   training_config \u001b[39m=\u001b[39m f\u001b[39m.\u001b[39mattrs\u001b[39m.\u001b[39mget(\u001b[39m'\u001b[39m\u001b[39mtraining_config\u001b[39m\u001b[39m'\u001b[39m)\n",
      "File \u001b[1;32md:\\Anaconda\\envs\\ai\\lib\\site-packages\\keras\\saving\\hdf5_format.py:763\u001b[0m, in \u001b[0;36mload_weights_from_hdf5_group\u001b[1;34m(f, model)\u001b[0m\n\u001b[0;32m    757\u001b[0m     \u001b[39mraise\u001b[39;00m \u001b[39mValueError\u001b[39;00m(\n\u001b[0;32m    758\u001b[0m         \u001b[39mf\u001b[39m\u001b[39m'\u001b[39m\u001b[39mWeight count mismatch for top-level weights when loading weights \u001b[39m\u001b[39m'\u001b[39m\n\u001b[0;32m    759\u001b[0m         \u001b[39mf\u001b[39m\u001b[39m'\u001b[39m\u001b[39mfrom file. \u001b[39m\u001b[39m'\u001b[39m\n\u001b[0;32m    760\u001b[0m         \u001b[39mf\u001b[39m\u001b[39m'\u001b[39m\u001b[39mModel expects \u001b[39m\u001b[39m{\u001b[39;00m\u001b[39mlen\u001b[39m(symbolic_weights)\u001b[39m}\u001b[39;00m\u001b[39m top-level weight(s). \u001b[39m\u001b[39m'\u001b[39m\n\u001b[0;32m    761\u001b[0m         \u001b[39mf\u001b[39m\u001b[39m'\u001b[39m\u001b[39mReceived \u001b[39m\u001b[39m{\u001b[39;00m\u001b[39mlen\u001b[39m(weight_values)\u001b[39m}\u001b[39;00m\u001b[39m saved top-level weight(s)\u001b[39m\u001b[39m'\u001b[39m)\n\u001b[0;32m    762\u001b[0m   weight_value_tuples \u001b[39m+\u001b[39m\u001b[39m=\u001b[39m \u001b[39mzip\u001b[39m(symbolic_weights, weight_values)\n\u001b[1;32m--> 763\u001b[0m backend\u001b[39m.\u001b[39;49mbatch_set_value(weight_value_tuples)\n\u001b[0;32m    765\u001b[0m \u001b[39m# Perform any layer defined finalization of the layer state.\u001b[39;00m\n\u001b[0;32m    766\u001b[0m \u001b[39mfor\u001b[39;00m layer \u001b[39min\u001b[39;00m model\u001b[39m.\u001b[39m_flatten_layers():\n",
      "File \u001b[1;32md:\\Anaconda\\envs\\ai\\lib\\site-packages\\tensorflow\\python\\util\\traceback_utils.py:150\u001b[0m, in \u001b[0;36mfilter_traceback.<locals>.error_handler\u001b[1;34m(*args, **kwargs)\u001b[0m\n\u001b[0;32m    148\u001b[0m filtered_tb \u001b[39m=\u001b[39m \u001b[39mNone\u001b[39;00m\n\u001b[0;32m    149\u001b[0m \u001b[39mtry\u001b[39;00m:\n\u001b[1;32m--> 150\u001b[0m   \u001b[39mreturn\u001b[39;00m fn(\u001b[39m*\u001b[39margs, \u001b[39m*\u001b[39m\u001b[39m*\u001b[39mkwargs)\n\u001b[0;32m    151\u001b[0m \u001b[39mexcept\u001b[39;00m \u001b[39mException\u001b[39;00m \u001b[39mas\u001b[39;00m e:\n\u001b[0;32m    152\u001b[0m   filtered_tb \u001b[39m=\u001b[39m _process_traceback_frames(e\u001b[39m.\u001b[39m__traceback__)\n",
      "File \u001b[1;32md:\\Anaconda\\envs\\ai\\lib\\site-packages\\tensorflow\\python\\util\\dispatch.py:1082\u001b[0m, in \u001b[0;36madd_dispatch_support.<locals>.decorator.<locals>.op_dispatch_handler\u001b[1;34m(*args, **kwargs)\u001b[0m\n\u001b[0;32m   1080\u001b[0m \u001b[39m# Fallback dispatch system (dispatch v1):\u001b[39;00m\n\u001b[0;32m   1081\u001b[0m \u001b[39mtry\u001b[39;00m:\n\u001b[1;32m-> 1082\u001b[0m   \u001b[39mreturn\u001b[39;00m dispatch_target(\u001b[39m*\u001b[39margs, \u001b[39m*\u001b[39m\u001b[39m*\u001b[39mkwargs)\n\u001b[0;32m   1083\u001b[0m \u001b[39mexcept\u001b[39;00m (\u001b[39mTypeError\u001b[39;00m, \u001b[39mValueError\u001b[39;00m):\n\u001b[0;32m   1084\u001b[0m   \u001b[39m# Note: convert_to_eager_tensor currently raises a ValueError, not a\u001b[39;00m\n\u001b[0;32m   1085\u001b[0m   \u001b[39m# TypeError, when given unexpected types.  So we need to catch both.\u001b[39;00m\n\u001b[0;32m   1086\u001b[0m   result \u001b[39m=\u001b[39m dispatch(op_dispatch_handler, args, kwargs)\n",
      "File \u001b[1;32md:\\Anaconda\\envs\\ai\\lib\\site-packages\\keras\\backend.py:4044\u001b[0m, in \u001b[0;36mbatch_set_value\u001b[1;34m(tuples)\u001b[0m\n\u001b[0;32m   4042\u001b[0m   assign_ops\u001b[39m.\u001b[39mappend(assign_op)\n\u001b[0;32m   4043\u001b[0m   feed_dict[assign_placeholder] \u001b[39m=\u001b[39m value\n\u001b[1;32m-> 4044\u001b[0m get_session()\u001b[39m.\u001b[39mrun(assign_ops, feed_dict\u001b[39m=\u001b[39mfeed_dict)\n",
      "File \u001b[1;32md:\\Anaconda\\envs\\ai\\lib\\site-packages\\keras\\backend.py:763\u001b[0m, in \u001b[0;36mget_session\u001b[1;34m(op_input_list)\u001b[0m\n\u001b[0;32m    761\u001b[0m \u001b[39mif\u001b[39;00m \u001b[39mnot\u001b[39;00m _MANUAL_VAR_INIT:\n\u001b[0;32m    762\u001b[0m   \u001b[39mwith\u001b[39;00m session\u001b[39m.\u001b[39mgraph\u001b[39m.\u001b[39mas_default():\n\u001b[1;32m--> 763\u001b[0m     _initialize_variables(session)\n\u001b[0;32m    764\u001b[0m \u001b[39mreturn\u001b[39;00m session\n",
      "File \u001b[1;32md:\\Anaconda\\envs\\ai\\lib\\site-packages\\keras\\backend.py:1213\u001b[0m, in \u001b[0;36m_initialize_variables\u001b[1;34m(session)\u001b[0m\n\u001b[0;32m   1209\u001b[0m     candidate_vars\u001b[39m.\u001b[39mappend(v)\n\u001b[0;32m   1210\u001b[0m \u001b[39mif\u001b[39;00m candidate_vars:\n\u001b[0;32m   1211\u001b[0m   \u001b[39m# This step is expensive, so we only run it on variables not already\u001b[39;00m\n\u001b[0;32m   1212\u001b[0m   \u001b[39m# marked as initialized.\u001b[39;00m\n\u001b[1;32m-> 1213\u001b[0m   is_initialized \u001b[39m=\u001b[39m session\u001b[39m.\u001b[39;49mrun(\n\u001b[0;32m   1214\u001b[0m       [tf\u001b[39m.\u001b[39;49mcompat\u001b[39m.\u001b[39;49mv1\u001b[39m.\u001b[39;49mis_variable_initialized(v) \u001b[39mfor\u001b[39;49;00m v \u001b[39min\u001b[39;49;00m candidate_vars])\n\u001b[0;32m   1215\u001b[0m   \u001b[39m# TODO(kathywu): Some metric variables loaded from SavedModel are never\u001b[39;00m\n\u001b[0;32m   1216\u001b[0m   \u001b[39m# actually used, and do not have an initializer.\u001b[39;00m\n\u001b[0;32m   1217\u001b[0m   should_be_initialized \u001b[39m=\u001b[39m [\n\u001b[0;32m   1218\u001b[0m       (\u001b[39mnot\u001b[39;00m is_initialized[n]) \u001b[39mand\u001b[39;00m v\u001b[39m.\u001b[39minitializer \u001b[39mis\u001b[39;00m \u001b[39mnot\u001b[39;00m \u001b[39mNone\u001b[39;00m\n\u001b[0;32m   1219\u001b[0m       \u001b[39mfor\u001b[39;00m n, v \u001b[39min\u001b[39;00m \u001b[39menumerate\u001b[39m(candidate_vars)]\n",
      "File \u001b[1;32md:\\Anaconda\\envs\\ai\\lib\\site-packages\\tensorflow\\python\\client\\session.py:967\u001b[0m, in \u001b[0;36mBaseSession.run\u001b[1;34m(self, fetches, feed_dict, options, run_metadata)\u001b[0m\n\u001b[0;32m    964\u001b[0m run_metadata_ptr \u001b[39m=\u001b[39m tf_session\u001b[39m.\u001b[39mTF_NewBuffer() \u001b[39mif\u001b[39;00m run_metadata \u001b[39melse\u001b[39;00m \u001b[39mNone\u001b[39;00m\n\u001b[0;32m    966\u001b[0m \u001b[39mtry\u001b[39;00m:\n\u001b[1;32m--> 967\u001b[0m   result \u001b[39m=\u001b[39m \u001b[39mself\u001b[39;49m\u001b[39m.\u001b[39;49m_run(\u001b[39mNone\u001b[39;49;00m, fetches, feed_dict, options_ptr,\n\u001b[0;32m    968\u001b[0m                      run_metadata_ptr)\n\u001b[0;32m    969\u001b[0m   \u001b[39mif\u001b[39;00m run_metadata:\n\u001b[0;32m    970\u001b[0m     proto_data \u001b[39m=\u001b[39m tf_session\u001b[39m.\u001b[39mTF_GetBuffer(run_metadata_ptr)\n",
      "File \u001b[1;32md:\\Anaconda\\envs\\ai\\lib\\site-packages\\tensorflow\\python\\client\\session.py:1190\u001b[0m, in \u001b[0;36mBaseSession._run\u001b[1;34m(self, handle, fetches, feed_dict, options, run_metadata)\u001b[0m\n\u001b[0;32m   1187\u001b[0m \u001b[39m# We only want to really perform the run if fetches or targets are provided,\u001b[39;00m\n\u001b[0;32m   1188\u001b[0m \u001b[39m# or if the call is a partial run that specifies feeds.\u001b[39;00m\n\u001b[0;32m   1189\u001b[0m \u001b[39mif\u001b[39;00m final_fetches \u001b[39mor\u001b[39;00m final_targets \u001b[39mor\u001b[39;00m (handle \u001b[39mand\u001b[39;00m feed_dict_tensor):\n\u001b[1;32m-> 1190\u001b[0m   results \u001b[39m=\u001b[39m \u001b[39mself\u001b[39;49m\u001b[39m.\u001b[39;49m_do_run(handle, final_targets, final_fetches,\n\u001b[0;32m   1191\u001b[0m                          feed_dict_tensor, options, run_metadata)\n\u001b[0;32m   1192\u001b[0m \u001b[39melse\u001b[39;00m:\n\u001b[0;32m   1193\u001b[0m   results \u001b[39m=\u001b[39m []\n",
      "File \u001b[1;32md:\\Anaconda\\envs\\ai\\lib\\site-packages\\tensorflow\\python\\client\\session.py:1370\u001b[0m, in \u001b[0;36mBaseSession._do_run\u001b[1;34m(self, handle, target_list, fetch_list, feed_dict, options, run_metadata)\u001b[0m\n\u001b[0;32m   1367\u001b[0m   \u001b[39mreturn\u001b[39;00m \u001b[39mself\u001b[39m\u001b[39m.\u001b[39m_call_tf_sessionprun(handle, feed_dict, fetch_list)\n\u001b[0;32m   1369\u001b[0m \u001b[39mif\u001b[39;00m handle \u001b[39mis\u001b[39;00m \u001b[39mNone\u001b[39;00m:\n\u001b[1;32m-> 1370\u001b[0m   \u001b[39mreturn\u001b[39;00m \u001b[39mself\u001b[39;49m\u001b[39m.\u001b[39;49m_do_call(_run_fn, feeds, fetches, targets, options,\n\u001b[0;32m   1371\u001b[0m                        run_metadata)\n\u001b[0;32m   1372\u001b[0m \u001b[39melse\u001b[39;00m:\n\u001b[0;32m   1373\u001b[0m   \u001b[39mreturn\u001b[39;00m \u001b[39mself\u001b[39m\u001b[39m.\u001b[39m_do_call(_prun_fn, handle, feeds, fetches)\n",
      "File \u001b[1;32md:\\Anaconda\\envs\\ai\\lib\\site-packages\\tensorflow\\python\\client\\session.py:1377\u001b[0m, in \u001b[0;36mBaseSession._do_call\u001b[1;34m(self, fn, *args)\u001b[0m\n\u001b[0;32m   1375\u001b[0m \u001b[39mdef\u001b[39;00m \u001b[39m_do_call\u001b[39m(\u001b[39mself\u001b[39m, fn, \u001b[39m*\u001b[39margs):\n\u001b[0;32m   1376\u001b[0m   \u001b[39mtry\u001b[39;00m:\n\u001b[1;32m-> 1377\u001b[0m     \u001b[39mreturn\u001b[39;00m fn(\u001b[39m*\u001b[39;49margs)\n\u001b[0;32m   1378\u001b[0m   \u001b[39mexcept\u001b[39;00m errors\u001b[39m.\u001b[39mOpError \u001b[39mas\u001b[39;00m e:\n\u001b[0;32m   1379\u001b[0m     message \u001b[39m=\u001b[39m compat\u001b[39m.\u001b[39mas_text(e\u001b[39m.\u001b[39mmessage)\n",
      "File \u001b[1;32md:\\Anaconda\\envs\\ai\\lib\\site-packages\\tensorflow\\python\\client\\session.py:1359\u001b[0m, in \u001b[0;36mBaseSession._do_run.<locals>._run_fn\u001b[1;34m(feed_dict, fetch_list, target_list, options, run_metadata)\u001b[0m\n\u001b[0;32m   1357\u001b[0m \u001b[39mdef\u001b[39;00m \u001b[39m_run_fn\u001b[39m(feed_dict, fetch_list, target_list, options, run_metadata):\n\u001b[0;32m   1358\u001b[0m   \u001b[39m# Ensure any changes to the graph are reflected in the runtime.\u001b[39;00m\n\u001b[1;32m-> 1359\u001b[0m   \u001b[39mself\u001b[39;49m\u001b[39m.\u001b[39;49m_extend_graph()\n\u001b[0;32m   1360\u001b[0m   \u001b[39mreturn\u001b[39;00m \u001b[39mself\u001b[39m\u001b[39m.\u001b[39m_call_tf_sessionrun(options, feed_dict, fetch_list,\n\u001b[0;32m   1361\u001b[0m                                   target_list, run_metadata)\n",
      "File \u001b[1;32md:\\Anaconda\\envs\\ai\\lib\\site-packages\\tensorflow\\python\\client\\session.py:1400\u001b[0m, in \u001b[0;36mBaseSession._extend_graph\u001b[1;34m(self)\u001b[0m\n\u001b[0;32m   1398\u001b[0m \u001b[39mdef\u001b[39;00m \u001b[39m_extend_graph\u001b[39m(\u001b[39mself\u001b[39m):\n\u001b[0;32m   1399\u001b[0m   \u001b[39mwith\u001b[39;00m \u001b[39mself\u001b[39m\u001b[39m.\u001b[39m_graph\u001b[39m.\u001b[39m_session_run_lock():  \u001b[39m# pylint: disable=protected-access\u001b[39;00m\n\u001b[1;32m-> 1400\u001b[0m     tf_session\u001b[39m.\u001b[39;49mExtendSession(\u001b[39mself\u001b[39;49m\u001b[39m.\u001b[39;49m_session)\n",
      "\u001b[1;31mKeyboardInterrupt\u001b[0m: "
     ]
    }
   ],
   "source": [
    "# sell test\n",
    "sell_times = []\n",
    "sell_counts = []\n",
    "step = 0\n",
    "for i in range(100, 500, 10):\n",
    "    print(i)\n",
    "    start_time = time.time()\n",
    "    for order_count in range(0, i):\n",
    "        qty = random.randint(1000, 5000)\n",
    "        limit_price = round(random.uniform(170, 180), 2)\n",
    "        smart_order_router('sell', 'Microsofts', qty, 'limit', limit_price)\n",
    "    end_time = time.time()\n",
    "    sell_times.append(end_time - start_time)\n",
    "    sell_counts.append(i)"
   ]
  },
  {
   "cell_type": "code",
   "execution_count": null,
   "metadata": {},
   "outputs": [
    {
     "data": {
      "image/png": "[encoded data removed]",
      "text/plain": [
       "<Figure size 640x480 with 1 Axes>"
      ]
     },
     "metadata": {},
     "output_type": "display_data"
    }
   ],
   "source": [
    "buy_line = plt.plot(buy_counts, buy_times, 'r--', label = 'buy test')\n",
    "sell_line = plt.plot(sell_counts, sell_times, 'b--', label = 'sell test')\n",
    "plt.plot(buy_counts, buy_times, 'ro-', sell_counts, sell_times, 'b+-')\n",
    "plt.title('Counts of orders VS Total Block Time')\n",
    "plt.xlabel('Counts of orders')\n",
    "plt.ylabel('Total Block Time(seconds)')\n",
    "plt.legend()\n",
    "plt.show()"
   ]
  }
 ],
 "metadata": {
  "kernelspec": {
   "display_name": "Python 3.10.8 ('ai')",
   "language": "python",
   "name": "python3"
  },
  "language_info": {
   "codemirror_mode": {
    "name": "ipython",
    "version": 3
   },
   "file_extension": ".py",
   "mimetype": "text/x-python",
   "name": "python",
   "nbconvert_exporter": "python",
   "pygments_lexer": "ipython3",
   "version": "3.10.9"
  },
  "orig_nbformat": 4,
  "vscode": {
   "interpreter": {
    "hash": "23d2138e26dfb28839b83ed814a43cc60c3d8c006f4568ef7458f1442bc438e6"
   }
  }
 },
 "nbformat": 4,
 "nbformat_minor": 2
}
