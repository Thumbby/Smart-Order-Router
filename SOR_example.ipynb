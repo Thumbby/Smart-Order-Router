{
 "cells": [
  {
   "cell_type": "code",
   "execution_count": 1,
   "metadata": {},
   "outputs": [],
   "source": [
    "import openpyxl\n",
    "from collections import defaultdict"
   ]
  },
  {
   "cell_type": "code",
   "execution_count": 2,
   "metadata": {},
   "outputs": [],
   "source": [
    "orders_file = 'data/orders.xlsx'\n",
    "workbook = openpyxl.load_workbook(orders_file)"
   ]
  },
  {
   "cell_type": "code",
   "execution_count": 3,
   "metadata": {},
   "outputs": [
    {
     "name": "stdout",
     "output_type": "stream",
     "text": [
      "['Microsofts', 'Netflix']\n"
     ]
    },
    {
     "name": "stderr",
     "output_type": "stream",
     "text": [
      "C:\\Users\\Thumbby\\AppData\\Local\\Temp\\ipykernel_3060\\2214667223.py:1: DeprecationWarning: Call to deprecated function get_sheet_names (Use wb.sheetnames).\n",
      "  sheetnames= workbook.get_sheet_names()\n"
     ]
    }
   ],
   "source": [
    "sheetnames= workbook.get_sheet_names()\n",
    "print(sheetnames)"
   ]
  },
  {
   "cell_type": "code",
   "execution_count": 4,
   "metadata": {},
   "outputs": [
    {
     "name": "stdout",
     "output_type": "stream",
     "text": [
      "Microsofts\n",
      "Netflix\n"
     ]
    }
   ],
   "source": [
    "sheetMSFT = workbook.worksheets[0]\n",
    "sheetNFLX = workbook.worksheets[1]\n",
    "sheetMSFTNAME = sheetMSFT.title\n",
    "sheetNFLXNAME = sheetNFLX.title\n",
    "print(sheetMSFTNAME)\n",
    "print(sheetNFLXNAME)"
   ]
  },
  {
   "cell_type": "code",
   "execution_count": 5,
   "metadata": {},
   "outputs": [],
   "source": [
    "excelbids = {}\n",
    "excelbids['BATS'] = {}\n",
    "excelbids['BATS'][sheetMSFTNAME] = defaultdict(list)\n",
    "excelbids['BATS'][sheetNFLXNAME] = defaultdict(list)\n",
    "excelbids['NASD'] = {}\n",
    "excelbids['NASD'][sheetMSFTNAME] = defaultdict(list)\n",
    "excelbids['NASD'][sheetNFLXNAME] = defaultdict(list)\n",
    "excelasks = {}\n",
    "excelasks['BATS'] = {}\n",
    "excelasks['BATS'][sheetMSFTNAME] = defaultdict(list)\n",
    "excelasks['BATS'][sheetNFLXNAME] = defaultdict(list)\n",
    "excelasks['NASD'] = {}\n",
    "excelasks['NASD'][sheetMSFTNAME] = defaultdict(list)\n",
    "excelasks['NASD'][sheetNFLXNAME] = defaultdict(list)\n"
   ]
  },
  {
   "cell_type": "code",
   "execution_count": 6,
   "metadata": {},
   "outputs": [
    {
     "name": "stdout",
     "output_type": "stream",
     "text": [
      "{'BATS': {'Microsofts': defaultdict(<class 'list'>, {183.65: [30], 183.64: [450], 183.63: [175], 183.62: [400]}), 'Netflix': defaultdict(<class 'list'>, {366.95: [110, 200], 366.94: [250], 366.93: [375]})}, 'NASD': {'Microsofts': defaultdict(<class 'list'>, {183.65: [500], 183.64: [200], 183.63: [500], 183.62: [1450]}), 'Netflix': defaultdict(<class 'list'>, {366.97: [100], 366.96: [200], 366.95: [225], 366.94: [450]})}}\n",
      "{'BATS': {'Microsofts': defaultdict(<class 'list'>, {183.91: [500], 183.94: [400], 183.95: [1125], 183.96: [675]}), 'Netflix': defaultdict(<class 'list'>, {367.23: [250], 367.24: [300], 367.25: [100], 367.35: [100]})}, 'NASD': {'Microsofts': defaultdict(<class 'list'>, {183.91: [100], 183.92: [300], 183.93: [1075], 183.94: [800]}), 'Netflix': defaultdict(<class 'list'>, {367.23: [600], 367.24: [575], 367.25: [425], 367.26: [325]})}}\n"
     ]
    }
   ],
   "source": [
    "# Get the dictionary of price-to-qunatity\n",
    "for i in range (3, 7):\n",
    "\tfor j in range (1, 2):\n",
    "\t\texcelbids['NASD'][sheetMSFTNAME][sheetMSFT.cell(i, j).value].append(sheetMSFT.cell(i, j+1).value)\n",
    "for i in range (3, 7):\n",
    "\tfor j in range (3, 4):\n",
    "\t\texcelasks['NASD'][sheetMSFTNAME][sheetMSFT.cell(i, j).value].append(sheetMSFT.cell(i, j+1).value)\n",
    "\n",
    "for i in range (10, 14):\n",
    "\t\tfor j in range (1, 2):\n",
    "\t\t\texcelbids['BATS'][sheetMSFTNAME][sheetMSFT.cell(i, j).value].append(sheetMSFT.cell(i, j+1).value)\n",
    "for i in range (10, 14):\n",
    "\tfor j in range (3, 4):\n",
    "\t\texcelasks['BATS'][sheetMSFTNAME][sheetMSFT.cell(i, j).value].append(sheetMSFT.cell(i, j+1).value)\n",
    "\n",
    "for i in range (3, 7):\n",
    "\tfor j in range (1, 2):\n",
    "\t\texcelbids['NASD'][sheetNFLXNAME][sheetNFLX.cell(i, j).value].append(sheetNFLX.cell(i, j+1).value)\n",
    "\n",
    "for i in range (3, 7):\n",
    "\tfor j in range (3, 4):\n",
    "\t\texcelasks['NASD'][sheetNFLXNAME][sheetNFLX.cell(i, j).value].append(sheetNFLX.cell(i, j+1).value)\n",
    "\n",
    "for i in range (10, 14):\n",
    "\tfor j in range (1, 2):\n",
    "\t\texcelbids['BATS'][sheetNFLXNAME][sheetNFLX.cell(i, j).value].append(sheetNFLX.cell(i, j+1).value)\n",
    "\n",
    "for i in range (10, 14):\n",
    "\tfor j in range (3, 4):\n",
    "\t\texcelasks['BATS'][sheetNFLXNAME][sheetNFLX.cell(i, j).value].append(sheetNFLX.cell(i, j+1).value)\n",
    "\n",
    "print(excelbids)\n",
    "print(excelasks)"
   ]
  },
  {
   "cell_type": "code",
   "execution_count": 7,
   "metadata": {},
   "outputs": [],
   "source": [
    "def smart_order_router(side, symbol, qty, order_type='market', price=None):\n",
    "    needed_qty = qty\n",
    "    route = {}\n",
    "    available_qty = 0\n",
    "    if side == 'buy':\n",
    "        for exchanges in excelasks:\n",
    "            if qty <= 0:\n",
    "                break\n",
    "            available_orders = excelasks[exchanges]\n",
    "            if symbol in available_orders.keys():\n",
    "                target_exchange = exchanges\n",
    "                for ask_price in available_orders[symbol].keys():\n",
    "                    if order_type == 'market' or price >= ask_price:\n",
    "                        for ask_qty in available_orders[symbol][ask_price]:\n",
    "                            if target_exchange not in route:\n",
    "                                route[target_exchange] = {}\n",
    "                            if ask_qty >= qty and qty > 0:\n",
    "                                route[target_exchange][ask_price] = qty\n",
    "                                qty = 0\n",
    "                            elif qty > 0:\n",
    "                                route[target_exchange][ask_price] = ask_qty\n",
    "                                qty = qty - ask_qty\n",
    "                            available_qty += ask_qty\n",
    "            else:\n",
    "                pass\n",
    "    elif side == 'sell':\n",
    "        for exchanges in excelbids:\n",
    "            if qty <= 0:\n",
    "                break\n",
    "            available_orders = excelbids[exchanges]\n",
    "            if symbol in available_orders.keys():\n",
    "                target_exchange = exchanges\n",
    "                for bid_price in available_orders[symbol].keys():\n",
    "                    if order_type == 'market' or price >= bid_price:\n",
    "                        for bid_qty in available_orders[symbol][bid_price]:\n",
    "                            if target_exchange not in route:\n",
    "                                route[target_exchange] = {}\n",
    "                            if bid_qty >= qty and qty > 0:\n",
    "                                route[target_exchange][bid_price] = qty\n",
    "                                qty = 0\n",
    "                            elif qty > 0:\n",
    "                                route[target_exchange][bid_price] = bid_qty\n",
    "                                qty = qty - bid_qty\n",
    "                            available_qty += ask_qty\n",
    "            else:\n",
    "                pass\n",
    "    order = {'route':route, 'leave_qty':needed_qty - available_qty}\n",
    "    return order"
   ]
  },
  {
   "cell_type": "code",
   "execution_count": 8,
   "metadata": {},
   "outputs": [
    {
     "data": {
      "text/plain": [
       "{'route': {'BATS': {183.91: 500}, 'NASD': {183.91: 100, 183.92: 300}},\n",
       " 'leave_qty': 100}"
      ]
     },
     "execution_count": 8,
     "metadata": {},
     "output_type": "execute_result"
    }
   ],
   "source": [
    "smart_order_router('buy', 'Microsofts', 1000, 'limit', 183.92)"
   ]
  }
 ],
 "metadata": {
  "kernelspec": {
   "display_name": "Python 3.9.15 ('project')",
   "language": "python",
   "name": "python3"
  },
  "language_info": {
   "codemirror_mode": {
    "name": "ipython",
    "version": 3
   },
   "file_extension": ".py",
   "mimetype": "text/x-python",
   "name": "python",
   "nbconvert_exporter": "python",
   "pygments_lexer": "ipython3",
   "version": "3.9.15"
  },
  "orig_nbformat": 4,
  "vscode": {
   "interpreter": {
    "hash": "ccb8e486fc5b19ce4a308deac29e9dc4704b12daed00359ac72d17f03a35155c"
   }
  }
 },
 "nbformat": 4,
 "nbformat_minor": 2
}
