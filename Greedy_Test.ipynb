{
 "cells": [
  {
   "cell_type": "code",
   "execution_count": 13,
   "metadata": {},
   "outputs": [],
   "source": [
    "import openpyxl\n",
    "from collections import defaultdict\n",
    "import random\n",
    "import matplotlib.pyplot as plt\n",
    "import time\n",
    "import csv"
   ]
  },
  {
   "cell_type": "code",
   "execution_count": 14,
   "metadata": {},
   "outputs": [],
   "source": [
    "def smart_order_router(excelasks, excelbids, side, symbol, qty, order_type='market', price=None):\n",
    "    needed_qty = qty\n",
    "    route = {}\n",
    "    available_qty = 0\n",
    "    if side == 'buy':\n",
    "        ask_shared = sorted(excelasks[symbol].items())\n",
    "        for shared in ask_shared:\n",
    "            if qty <= 0:\n",
    "                break\n",
    "            ask_price = shared[0]\n",
    "            order_info = shared[1]\n",
    "            if order_type == 'market' or ask_price <= price:\n",
    "                for order in order_info:\n",
    "                    exchanger = order[0]\n",
    "                    ask_qty = order[1]\n",
    "                    if exchanger not in route:\n",
    "                        route[exchanger] = {}\n",
    "                    if ask_qty >= qty and qty>0:\n",
    "                        route[exchanger][ask_price] = qty\n",
    "                        available_qty += qty\n",
    "                        qty = 0\n",
    "                    elif qty > 0:\n",
    "                        route[exchanger][ask_price] = ask_qty\n",
    "                        available_qty += ask_qty\n",
    "                        qty = qty - ask_qty\n",
    "    elif side == 'sell':\n",
    "        bid_shared = sorted(excelbids[symbol].items(), reverse = True)\n",
    "        for shared in bid_shared:\n",
    "            if qty <= 0:\n",
    "                break\n",
    "            bid_price = shared[0]\n",
    "            order_info = shared[1]\n",
    "            if order_type == 'market' or bid_price >= price:\n",
    "                for order in order_info:\n",
    "                    exchanger = order[0]\n",
    "                    bid_qty = order[1]\n",
    "                    if exchanger not in route:\n",
    "                        route[exchanger] = {}\n",
    "                    if bid_qty >= qty and qty>0:\n",
    "                        route[exchanger][bid_price] = qty\n",
    "                        available_qty += qty\n",
    "                        qty = 0\n",
    "                    elif qty > 0:\n",
    "                        route[exchanger][bid_price] = bid_qty\n",
    "                        available_qty += bid_qty\n",
    "                        qty = qty - bid_qty\n",
    "    order = {'route':route, 'leave_qty':needed_qty - available_qty}\n",
    "    return order    "
   ]
  },
  {
   "cell_type": "code",
   "execution_count": 15,
   "metadata": {},
   "outputs": [],
   "source": [
    "def test_order_number():\n",
    "\texcelbids = defaultdict(lambda:defaultdict(list))\n",
    "\texcelasks = defaultdict(lambda:defaultdict(list))\n",
    "\tfor i in range(0,50):\n",
    "\t\texchanger_name = \"Exchanger\"+str(i)\n",
    "\t\tfor _ in range(0, 5):\n",
    "\t\t\texcelbids['Microsofts'][round(random.uniform(183.5, 184.5), 2)].append([exchanger_name,random.randint(100, 500)])\n",
    "\t\t\texcelasks['Microsofts'][round(random.uniform(183.5, 184.5), 2)].append([exchanger_name,random.randint(100, 500)])\n",
    "\tresults = []\n",
    "\tfor i in range(1, 21, 1):\n",
    "\t\torder_counts = i*100\n",
    "\t\tstart_time = time.time()\n",
    "\t\tfor order_count in range(0, order_counts):\n",
    "\t\t\tqty = random.randint(1000, 5000)\n",
    "\t\t\tlimit_price = round(random.uniform(183.5, 184.5), 2)\n",
    "\t\t\tside = random.choice(['buy', 'sell'])\n",
    "\t\t\troute = smart_order_router(excelasks, excelbids, 'sell', 'Microsofts', qty, 'limit', limit_price)\n",
    "\t\tend_time = time.time()\n",
    "\t\tresults.append([i, end_time - start_time])\n",
    "\twith open('./greedy_order.csv', 'w') as f:\n",
    "\t\twriter = csv.writer(f)\n",
    "\t\tfor result in results:\n",
    "\t\t\twriter.writerow(result)"
   ]
  },
  {
   "cell_type": "code",
   "execution_count": 16,
   "metadata": {},
   "outputs": [],
   "source": [
    "test_order_number()"
   ]
  },
  {
   "cell_type": "code",
   "execution_count": 17,
   "metadata": {},
   "outputs": [],
   "source": [
    "def test_exchanger_number():\n",
    "    results = []\n",
    "    for i in range(0, 51, 5):\n",
    "        exchanger_num = i\n",
    "        if exchanger_num == 0:\n",
    "            exchanger_num = 2\n",
    "        excelbids = defaultdict(lambda:defaultdict(list))\n",
    "        excelasks = defaultdict(lambda:defaultdict(list))\n",
    "        for i in range(0, exchanger_num):\n",
    "            exchanger_name = \"Exchanger\"+str(i)\n",
    "            for _ in range(0, 5):\n",
    "                excelbids['Microsofts'][round(random.uniform(183.5, 184.5), 2)].append([exchanger_name,random.randint(100, 500)])\n",
    "                excelasks['Microsofts'][round(random.uniform(183.5, 184.5), 2)].append([exchanger_name,random.randint(100, 500)])\n",
    "        start_time = time.time()\n",
    "        for order_count in range(0, 2000):\n",
    "            qty = random.randint(1000, 5000)\n",
    "            limit_price = round(random.uniform(183.5, 184.5), 2)\n",
    "            side = random.choice(['buy', 'sell'])\n",
    "            route = smart_order_router(excelasks, excelbids, 'sell', 'Microsofts', qty, 'limit', limit_price)\n",
    "        end_time = time.time()\n",
    "        results.append([exchanger_num, end_time - start_time])\n",
    "    with open('./greedy_exchanger_50.csv', 'w') as f:\n",
    "        writer = csv.writer(f)\n",
    "        for result in results:\n",
    "            writer.writerow(result)"
   ]
  },
  {
   "cell_type": "code",
   "execution_count": 18,
   "metadata": {},
   "outputs": [],
   "source": [
    "test_exchanger_number()"
   ]
  }
 ],
 "metadata": {
  "kernelspec": {
   "display_name": "Python 3.10.9 ('ai')",
   "language": "python",
   "name": "python3"
  },
  "language_info": {
   "codemirror_mode": {
    "name": "ipython",
    "version": 3
   },
   "file_extension": ".py",
   "mimetype": "text/x-python",
   "name": "python",
   "nbconvert_exporter": "python",
   "pygments_lexer": "ipython3",
   "version": "3.10.9"
  },
  "orig_nbformat": 4,
  "vscode": {
   "interpreter": {
    "hash": "23d2138e26dfb28839b83ed814a43cc60c3d8c006f4568ef7458f1442bc438e6"
   }
  }
 },
 "nbformat": 4,
 "nbformat_minor": 2
}
